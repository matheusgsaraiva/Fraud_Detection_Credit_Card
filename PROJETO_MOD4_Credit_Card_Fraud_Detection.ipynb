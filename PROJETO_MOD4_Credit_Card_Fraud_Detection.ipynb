{
  "nbformat": 4,
  "nbformat_minor": 0,
  "metadata": {
    "colab": {
      "provenance": [],
      "include_colab_link": true
    },
    "kernelspec": {
      "name": "python3",
      "display_name": "Python 3"
    }
  },
  "cells": [
    {
      "cell_type": "markdown",
      "metadata": {
        "id": "view-in-github",
        "colab_type": "text"
      },
      "source": [
        "<a href=\"https://colab.research.google.com/github/matheusgsaraiva/Fraud_Detection_Credit_Card/blob/main/PROJETO_MOD4_Credit_Card_Fraud_Detection.ipynb\" target=\"_parent\"><img src=\"https://colab.research.google.com/assets/colab-badge.svg\" alt=\"Open In Colab\"/></a>"
      ]
    },
    {
      "cell_type": "markdown",
      "metadata": {
        "id": "sC2BFMOKN1M7"
      },
      "source": [
        "---\n",
        "<img alt=\"Colaboratory logo\" width=\"15%\" src=\"https://raw.githubusercontent.com/carlosfab/escola-data-science/master/img/novo_logo_bg_claro.png\">\n",
        "\n",
        "#### **Data Science na Prática 3.0**\n",
        "*by [sigmoidal.ai](https://sigmoidal.ai)*  \n",
        "\n",
        "---"
      ]
    },
    {
      "cell_type": "markdown",
      "metadata": {
        "id": "IR56trFcPcC1"
      },
      "source": [
        ":# Credit Card Fraud Detection\n",
        "\n",
        "In this project, we will address the problem of credit card fraud, a major concern for financial institutions such as banks and *fintechs*. In Brazil alone, about 12.1 million people have been victims of some kind of financial fraud in the last year. Translated into figures, financial scams have exceeded the figure of R$ 1.8 billion in losses per year for the last 12 months.\n",
        "\n",
        "<p align=center>\n",
        "<img src=\"https://images.unsplash.com/photo-1592772874383-d08932d29db7?ixid=MnwxMjA3fDB8MHxwaG90by1wYWdlfHx8fGVufDB8fHx8&ixlib=rb-1.2.1&auto=format&fit=crop&w=699&q=80\" width=\"60%\"></p>\n",
        "\n",
        "Among these frauds, those involving credit cards are of great relevance since their non-detection will lead to considerable losses, both for the consumer and the financial institution.\n",
        "\n",
        "Another factor to be considered is the amount of false positives, i.e. those times when you tried to make a purchase and had your card preventively blocked - which probably generated stress and embarrassment.\n",
        "\n",
        "For all these reasons, investment in the area of fraud detection through Artificial Intelligence is growing every year, representing a great opportunity in *Data Science*. \n",
        "\n",
        "With large volumes of data as a historical basis, a machine learning algorithm just a little better than the previous ones already represents savings of millions of dollars. And this is the challenge, to increasingly improve the use of algorithms to inhibit or prevent fraudulent transactions."
      ]
    },
    {
      "cell_type": "markdown",
      "metadata": {
        "id": "0HVmpIxQWT4Y"
      },
      "source": [
        "## Importing Data\n",
        "\n",
        "The data we will use in this project was made available by some European credit card companies. The *dataset* represents the financial transactions that took place over a two-day period, where 492 frauds were classified out of almost 290,000 transactions.\n",
        "\n",
        "As you can see, this is an extremely unbalanced data set, where frauds represent only 0.17% of the total.\n",
        "\n",
        "Another interesting detail is that the *features* are all numeric, and have been de-characterized (for privacy and security reasons). Thus, the column names are represented by $[V1, V2, V3 \\dots, V28]$ \n",
        "\n",
        "<p align=center>\n",
        "<img src=\"https://images.unsplash.com/photo-1620714223084-8fcacc6dfd8d?ixid=MnwxMjA3fDB8MHxwaG90by1wYWdlfHx8fGVufDB8fHx8&ixlib=rb-1.2.1&auto=format&fit=crop&w=1051&q=80\" width=\"50%\"></p>\n",
        "\n",
        "[In the source](https://www.kaggle.com/mlg-ulb/creditcardfraud), it is also reported that the variables have undergone a transformation known as Principal Component Analysis* (PCA).\n",
        "\n",
        "PCA allows for dimensionality reduction while maintaining as much information as possible. To achieve this, the algorithm finds a new set of features - so called **components**.\n",
        "\n",
        "These components are fewer in number or equal to the original variables. In the case of this project, the components found by the PCA transformation are the columns themselves $[V1, V2, V3 \\dots, V28]$."
      ]
    },
    {
      "cell_type": "code",
      "source": [
        "# installing library\n",
        "pip install -U imbalanced-learn -q"
      ],
      "metadata": {
        "id": "bFixK4vfzwJZ",
        "colab": {
          "base_uri": "https://localhost:8080/",
          "height": 130
        },
        "outputId": "d33003bd-cd9b-497b-d4a6-059f97fd2e5c"
      },
      "execution_count": 1,
      "outputs": [
        {
          "output_type": "error",
          "ename": "SyntaxError",
          "evalue": "ignored",
          "traceback": [
            "\u001b[0;36m  File \u001b[0;32m\"<ipython-input-1-848b3abb4531>\"\u001b[0;36m, line \u001b[0;32m2\u001b[0m\n\u001b[0;31m    pip install -U imbalanced-learn -q\u001b[0m\n\u001b[0m        ^\u001b[0m\n\u001b[0;31mSyntaxError\u001b[0m\u001b[0;31m:\u001b[0m invalid syntax\n"
          ]
        }
      ]
    },
    {
      "cell_type": "code",
      "source": [
        "# installing library scikit-plot\n",
        "!pip install scikit-plot -q"
      ],
      "metadata": {
        "id": "DFpWHifW27A6"
      },
      "execution_count": 2,
      "outputs": []
    },
    {
      "cell_type": "code",
      "metadata": {
        "id": "oQ4bNy7udtEE"
      },
      "source": [
        "# importing libraries\n",
        "import pandas as pd\n",
        "import matplotlib.pyplot as plt\n",
        "import seaborn as sns\n",
        "import numpy as np\n",
        "\n",
        "# importing scikit-learn to create the model\n",
        "from sklearn.model_selection import train_test_split\n",
        "from sklearn.preprocessing import StandardScaler\n",
        "from sklearn.metrics import classification_report\n",
        "from sklearn.metrics import confusion_matrix\n",
        "from sklearn.linear_model import LogisticRegression\n",
        "\n",
        "import scikitplot as skplt\n",
        "from sklearn.metrics import roc_auc_score, roc_curve, accuracy_score"
      ],
      "execution_count": 3,
      "outputs": []
    },
    {
      "cell_type": "code",
      "source": [
        "# importing RandomUnderSampler\n",
        "from imblearn.under_sampling import RandomUnderSampler"
      ],
      "metadata": {
        "id": "QHH9Qntw1fnj"
      },
      "execution_count": 4,
      "outputs": []
    },
    {
      "cell_type": "markdown",
      "metadata": {
        "id": "g5XDTWW5LRVe"
      },
      "source": [
        "To make it easier to acquire the data, I have created a *link* with direct access to `csv`. With this, you can simply import the dataset using the `pd.read_csv()` method."
      ]
    },
    {
      "cell_type": "code",
      "metadata": {
        "id": "4NxUOfDOj2j8",
        "colab": {
          "base_uri": "https://localhost:8080/"
        },
        "outputId": "ab11df1f-d310-4575-b04a-652f55a3f05a"
      },
      "source": [
        "file_path = \"https://www.dropbox.com/s/b44o3t3ehmnx2b7/creditcard.csv?dl=1\"\n",
        "\n",
        "# Importing data to a dataframe\n",
        "df = pd.read_csv(file_path)\n",
        "\n",
        "# Showing the shape of the dataset\n",
        "print(\"Dimensões do Conjunto Original: \", df.shape)\n",
        "\n",
        "# Creating test sample\n",
        "test = df.sample(frac=0.15, random_state=0)\n",
        "\n",
        "# Removing test lines\n",
        "df = df.drop(test.index)\n",
        "\n",
        "# Checking dataset\n",
        "print(\"Shape of test dataset: \", test.shape)\n",
        "print(\"Shape of training dataset: \", df.shape)"
      ],
      "execution_count": 5,
      "outputs": [
        {
          "output_type": "stream",
          "name": "stdout",
          "text": [
            "Dimensões do Conjunto Original:  (284807, 31)\n",
            "Shape of test dataset:  (42721, 31)\n",
            "Shape of training dataset:  (242086, 31)\n"
          ]
        }
      ]
    },
    {
      "cell_type": "markdown",
      "metadata": {
        "id": "7nF_Dhd81Cvq"
      },
      "source": [
        "With the data imported into a Dataframe structure-and with no further tuning or configuration needed at this stage-you can begin an exploratory analysis of the data in order to prepare a Machine Learning model.\n",
        "\n",
        "It is important to split the sets, to avoid data leakage.\n",
        "\n",
        "That done, let's get to the Exploratory Analysis."
      ]
    },
    {
      "cell_type": "markdown",
      "metadata": {
        "id": "8UtXyZ6stlSM"
      },
      "source": [
        "## Exploratory Analysis\n",
        "\n",
        "In the exploratory analysis, I will address the following topics/information below:\n",
        "\n",
        "* View the first 5 entries\n",
        "* View the summary statistics of the dataframe\n",
        "* Check for missing values\n",
        "* Plot a bar chart (or countplot) to see the balancing of the *dataset*\n",
        "* Plot the following histograms:\n",
        "    * `Time` variable\n",
        "        * Fraud (`Class == 1`)\n",
        "        * Normal (`Class == 0`)\n",
        "    * Variable `Amount` * Fraud (`Class == 1`)\n",
        "        * Fraud (`Class == 1`)\n",
        "        * Normal (`Class == 0`)\n",
        "* Plot a boxplot for the variable `Amount` when fraud was involved (`Class == 1`)\n",
        "* Plot a correlation matrix"
      ]
    },
    {
      "cell_type": "code",
      "source": [
        "# Showing 5 first entries\n",
        "df.head()"
      ],
      "metadata": {
        "colab": {
          "base_uri": "https://localhost:8080/",
          "height": 299
        },
        "id": "rw4POI8FZ2nn",
        "outputId": "2dad4015-cf68-483f-9911-cdd405d487cf"
      },
      "execution_count": 6,
      "outputs": [
        {
          "output_type": "execute_result",
          "data": {
            "text/plain": [
              "   Time        V1        V2        V3        V4        V5        V6        V7  \\\n",
              "0   0.0 -1.359807 -0.072781  2.536347  1.378155 -0.338321  0.462388  0.239599   \n",
              "1   0.0  1.191857  0.266151  0.166480  0.448154  0.060018 -0.082361 -0.078803   \n",
              "2   1.0 -1.358354 -1.340163  1.773209  0.379780 -0.503198  1.800499  0.791461   \n",
              "3   1.0 -0.966272 -0.185226  1.792993 -0.863291 -0.010309  1.247203  0.237609   \n",
              "4   2.0 -1.158233  0.877737  1.548718  0.403034 -0.407193  0.095921  0.592941   \n",
              "\n",
              "         V8        V9  ...       V21       V22       V23       V24       V25  \\\n",
              "0  0.098698  0.363787  ... -0.018307  0.277838 -0.110474  0.066928  0.128539   \n",
              "1  0.085102 -0.255425  ... -0.225775 -0.638672  0.101288 -0.339846  0.167170   \n",
              "2  0.247676 -1.514654  ...  0.247998  0.771679  0.909412 -0.689281 -0.327642   \n",
              "3  0.377436 -1.387024  ... -0.108300  0.005274 -0.190321 -1.175575  0.647376   \n",
              "4 -0.270533  0.817739  ... -0.009431  0.798278 -0.137458  0.141267 -0.206010   \n",
              "\n",
              "        V26       V27       V28  Amount  Class  \n",
              "0 -0.189115  0.133558 -0.021053  149.62      0  \n",
              "1  0.125895 -0.008983  0.014724    2.69      0  \n",
              "2 -0.139097 -0.055353 -0.059752  378.66      0  \n",
              "3 -0.221929  0.062723  0.061458  123.50      0  \n",
              "4  0.502292  0.219422  0.215153   69.99      0  \n",
              "\n",
              "[5 rows x 31 columns]"
            ],
            "text/html": [
              "\n",
              "  <div id=\"df-2ae816b2-c8aa-4d1f-821f-3eecaf95d986\">\n",
              "    <div class=\"colab-df-container\">\n",
              "      <div>\n",
              "<style scoped>\n",
              "    .dataframe tbody tr th:only-of-type {\n",
              "        vertical-align: middle;\n",
              "    }\n",
              "\n",
              "    .dataframe tbody tr th {\n",
              "        vertical-align: top;\n",
              "    }\n",
              "\n",
              "    .dataframe thead th {\n",
              "        text-align: right;\n",
              "    }\n",
              "</style>\n",
              "<table border=\"1\" class=\"dataframe\">\n",
              "  <thead>\n",
              "    <tr style=\"text-align: right;\">\n",
              "      <th></th>\n",
              "      <th>Time</th>\n",
              "      <th>V1</th>\n",
              "      <th>V2</th>\n",
              "      <th>V3</th>\n",
              "      <th>V4</th>\n",
              "      <th>V5</th>\n",
              "      <th>V6</th>\n",
              "      <th>V7</th>\n",
              "      <th>V8</th>\n",
              "      <th>V9</th>\n",
              "      <th>...</th>\n",
              "      <th>V21</th>\n",
              "      <th>V22</th>\n",
              "      <th>V23</th>\n",
              "      <th>V24</th>\n",
              "      <th>V25</th>\n",
              "      <th>V26</th>\n",
              "      <th>V27</th>\n",
              "      <th>V28</th>\n",
              "      <th>Amount</th>\n",
              "      <th>Class</th>\n",
              "    </tr>\n",
              "  </thead>\n",
              "  <tbody>\n",
              "    <tr>\n",
              "      <th>0</th>\n",
              "      <td>0.0</td>\n",
              "      <td>-1.359807</td>\n",
              "      <td>-0.072781</td>\n",
              "      <td>2.536347</td>\n",
              "      <td>1.378155</td>\n",
              "      <td>-0.338321</td>\n",
              "      <td>0.462388</td>\n",
              "      <td>0.239599</td>\n",
              "      <td>0.098698</td>\n",
              "      <td>0.363787</td>\n",
              "      <td>...</td>\n",
              "      <td>-0.018307</td>\n",
              "      <td>0.277838</td>\n",
              "      <td>-0.110474</td>\n",
              "      <td>0.066928</td>\n",
              "      <td>0.128539</td>\n",
              "      <td>-0.189115</td>\n",
              "      <td>0.133558</td>\n",
              "      <td>-0.021053</td>\n",
              "      <td>149.62</td>\n",
              "      <td>0</td>\n",
              "    </tr>\n",
              "    <tr>\n",
              "      <th>1</th>\n",
              "      <td>0.0</td>\n",
              "      <td>1.191857</td>\n",
              "      <td>0.266151</td>\n",
              "      <td>0.166480</td>\n",
              "      <td>0.448154</td>\n",
              "      <td>0.060018</td>\n",
              "      <td>-0.082361</td>\n",
              "      <td>-0.078803</td>\n",
              "      <td>0.085102</td>\n",
              "      <td>-0.255425</td>\n",
              "      <td>...</td>\n",
              "      <td>-0.225775</td>\n",
              "      <td>-0.638672</td>\n",
              "      <td>0.101288</td>\n",
              "      <td>-0.339846</td>\n",
              "      <td>0.167170</td>\n",
              "      <td>0.125895</td>\n",
              "      <td>-0.008983</td>\n",
              "      <td>0.014724</td>\n",
              "      <td>2.69</td>\n",
              "      <td>0</td>\n",
              "    </tr>\n",
              "    <tr>\n",
              "      <th>2</th>\n",
              "      <td>1.0</td>\n",
              "      <td>-1.358354</td>\n",
              "      <td>-1.340163</td>\n",
              "      <td>1.773209</td>\n",
              "      <td>0.379780</td>\n",
              "      <td>-0.503198</td>\n",
              "      <td>1.800499</td>\n",
              "      <td>0.791461</td>\n",
              "      <td>0.247676</td>\n",
              "      <td>-1.514654</td>\n",
              "      <td>...</td>\n",
              "      <td>0.247998</td>\n",
              "      <td>0.771679</td>\n",
              "      <td>0.909412</td>\n",
              "      <td>-0.689281</td>\n",
              "      <td>-0.327642</td>\n",
              "      <td>-0.139097</td>\n",
              "      <td>-0.055353</td>\n",
              "      <td>-0.059752</td>\n",
              "      <td>378.66</td>\n",
              "      <td>0</td>\n",
              "    </tr>\n",
              "    <tr>\n",
              "      <th>3</th>\n",
              "      <td>1.0</td>\n",
              "      <td>-0.966272</td>\n",
              "      <td>-0.185226</td>\n",
              "      <td>1.792993</td>\n",
              "      <td>-0.863291</td>\n",
              "      <td>-0.010309</td>\n",
              "      <td>1.247203</td>\n",
              "      <td>0.237609</td>\n",
              "      <td>0.377436</td>\n",
              "      <td>-1.387024</td>\n",
              "      <td>...</td>\n",
              "      <td>-0.108300</td>\n",
              "      <td>0.005274</td>\n",
              "      <td>-0.190321</td>\n",
              "      <td>-1.175575</td>\n",
              "      <td>0.647376</td>\n",
              "      <td>-0.221929</td>\n",
              "      <td>0.062723</td>\n",
              "      <td>0.061458</td>\n",
              "      <td>123.50</td>\n",
              "      <td>0</td>\n",
              "    </tr>\n",
              "    <tr>\n",
              "      <th>4</th>\n",
              "      <td>2.0</td>\n",
              "      <td>-1.158233</td>\n",
              "      <td>0.877737</td>\n",
              "      <td>1.548718</td>\n",
              "      <td>0.403034</td>\n",
              "      <td>-0.407193</td>\n",
              "      <td>0.095921</td>\n",
              "      <td>0.592941</td>\n",
              "      <td>-0.270533</td>\n",
              "      <td>0.817739</td>\n",
              "      <td>...</td>\n",
              "      <td>-0.009431</td>\n",
              "      <td>0.798278</td>\n",
              "      <td>-0.137458</td>\n",
              "      <td>0.141267</td>\n",
              "      <td>-0.206010</td>\n",
              "      <td>0.502292</td>\n",
              "      <td>0.219422</td>\n",
              "      <td>0.215153</td>\n",
              "      <td>69.99</td>\n",
              "      <td>0</td>\n",
              "    </tr>\n",
              "  </tbody>\n",
              "</table>\n",
              "<p>5 rows × 31 columns</p>\n",
              "</div>\n",
              "      <button class=\"colab-df-convert\" onclick=\"convertToInteractive('df-2ae816b2-c8aa-4d1f-821f-3eecaf95d986')\"\n",
              "              title=\"Convert this dataframe to an interactive table.\"\n",
              "              style=\"display:none;\">\n",
              "        \n",
              "  <svg xmlns=\"http://www.w3.org/2000/svg\" height=\"24px\"viewBox=\"0 0 24 24\"\n",
              "       width=\"24px\">\n",
              "    <path d=\"M0 0h24v24H0V0z\" fill=\"none\"/>\n",
              "    <path d=\"M18.56 5.44l.94 2.06.94-2.06 2.06-.94-2.06-.94-.94-2.06-.94 2.06-2.06.94zm-11 1L8.5 8.5l.94-2.06 2.06-.94-2.06-.94L8.5 2.5l-.94 2.06-2.06.94zm10 10l.94 2.06.94-2.06 2.06-.94-2.06-.94-.94-2.06-.94 2.06-2.06.94z\"/><path d=\"M17.41 7.96l-1.37-1.37c-.4-.4-.92-.59-1.43-.59-.52 0-1.04.2-1.43.59L10.3 9.45l-7.72 7.72c-.78.78-.78 2.05 0 2.83L4 21.41c.39.39.9.59 1.41.59.51 0 1.02-.2 1.41-.59l7.78-7.78 2.81-2.81c.8-.78.8-2.07 0-2.86zM5.41 20L4 18.59l7.72-7.72 1.47 1.35L5.41 20z\"/>\n",
              "  </svg>\n",
              "      </button>\n",
              "      \n",
              "  <style>\n",
              "    .colab-df-container {\n",
              "      display:flex;\n",
              "      flex-wrap:wrap;\n",
              "      gap: 12px;\n",
              "    }\n",
              "\n",
              "    .colab-df-convert {\n",
              "      background-color: #E8F0FE;\n",
              "      border: none;\n",
              "      border-radius: 50%;\n",
              "      cursor: pointer;\n",
              "      display: none;\n",
              "      fill: #1967D2;\n",
              "      height: 32px;\n",
              "      padding: 0 0 0 0;\n",
              "      width: 32px;\n",
              "    }\n",
              "\n",
              "    .colab-df-convert:hover {\n",
              "      background-color: #E2EBFA;\n",
              "      box-shadow: 0px 1px 2px rgba(60, 64, 67, 0.3), 0px 1px 3px 1px rgba(60, 64, 67, 0.15);\n",
              "      fill: #174EA6;\n",
              "    }\n",
              "\n",
              "    [theme=dark] .colab-df-convert {\n",
              "      background-color: #3B4455;\n",
              "      fill: #D2E3FC;\n",
              "    }\n",
              "\n",
              "    [theme=dark] .colab-df-convert:hover {\n",
              "      background-color: #434B5C;\n",
              "      box-shadow: 0px 1px 3px 1px rgba(0, 0, 0, 0.15);\n",
              "      filter: drop-shadow(0px 1px 2px rgba(0, 0, 0, 0.3));\n",
              "      fill: #FFFFFF;\n",
              "    }\n",
              "  </style>\n",
              "\n",
              "      <script>\n",
              "        const buttonEl =\n",
              "          document.querySelector('#df-2ae816b2-c8aa-4d1f-821f-3eecaf95d986 button.colab-df-convert');\n",
              "        buttonEl.style.display =\n",
              "          google.colab.kernel.accessAllowed ? 'block' : 'none';\n",
              "\n",
              "        async function convertToInteractive(key) {\n",
              "          const element = document.querySelector('#df-2ae816b2-c8aa-4d1f-821f-3eecaf95d986');\n",
              "          const dataTable =\n",
              "            await google.colab.kernel.invokeFunction('convertToInteractive',\n",
              "                                                     [key], {});\n",
              "          if (!dataTable) return;\n",
              "\n",
              "          const docLinkHtml = 'Like what you see? Visit the ' +\n",
              "            '<a target=\"_blank\" href=https://colab.research.google.com/notebooks/data_table.ipynb>data table notebook</a>'\n",
              "            + ' to learn more about interactive tables.';\n",
              "          element.innerHTML = '';\n",
              "          dataTable['output_type'] = 'display_data';\n",
              "          await google.colab.output.renderOutput(dataTable, element);\n",
              "          const docLink = document.createElement('div');\n",
              "          docLink.innerHTML = docLinkHtml;\n",
              "          element.appendChild(docLink);\n",
              "        }\n",
              "      </script>\n",
              "    </div>\n",
              "  </div>\n",
              "  "
            ]
          },
          "metadata": {},
          "execution_count": 6
        }
      ]
    },
    {
      "cell_type": "code",
      "source": [
        "# Checking number of lines\n",
        "print(\"O dataset apresenta {:,}\".format(df.shape[0]).replace(\",\",\".\"), \" linhas e {} colunas.\".format(df.shape[1]))"
      ],
      "metadata": {
        "colab": {
          "base_uri": "https://localhost:8080/"
        },
        "id": "ayGFHb6hbVrq",
        "outputId": "c4d3d587-19ff-4c22-af61-a7dacc123725"
      },
      "execution_count": 7,
      "outputs": [
        {
          "output_type": "stream",
          "name": "stdout",
          "text": [
            "O dataset apresenta 242.086  linhas e 31 colunas.\n"
          ]
        }
      ]
    },
    {
      "cell_type": "code",
      "source": [
        "# Showing statistical summary of the 16 first variables\n",
        "df.loc[:,\"Time\":\"V15\"].describe()"
      ],
      "metadata": {
        "colab": {
          "base_uri": "https://localhost:8080/",
          "height": 364
        },
        "id": "lrlTt8Uiagix",
        "outputId": "6363c00b-a982-4f58-8dfc-ddc774ce39b5"
      },
      "execution_count": 8,
      "outputs": [
        {
          "output_type": "execute_result",
          "data": {
            "text/plain": [
              "                Time             V1             V2             V3  \\\n",
              "count  242086.000000  242086.000000  242086.000000  242086.000000   \n",
              "mean    94857.597379       0.001456      -0.000800      -0.001004   \n",
              "std     47490.660832       1.956513       1.654883       1.514580   \n",
              "min         0.000000     -56.407510     -72.715728     -33.680984   \n",
              "25%     54234.000000      -0.920406      -0.598659      -0.893374   \n",
              "50%     84747.000000       0.019230       0.064567       0.177607   \n",
              "75%    139362.000000       1.316034       0.803174       1.026561   \n",
              "max    172792.000000       2.451888      22.057729       9.382558   \n",
              "\n",
              "                  V4             V5             V6             V7  \\\n",
              "count  242086.000000  242086.000000  242086.000000  242086.000000   \n",
              "mean        0.000647      -0.000986      -0.001196      -0.000033   \n",
              "std         1.417228       1.366284       1.326879       1.223095   \n",
              "min        -5.683171     -42.147898     -26.160506     -43.557242   \n",
              "25%        -0.848236      -0.693615      -0.769025      -0.553805   \n",
              "50%        -0.018959      -0.054544      -0.274310       0.040344   \n",
              "75%         0.743691       0.611455       0.397688       0.570104   \n",
              "max        16.875344      34.801666      23.917837      44.054461   \n",
              "\n",
              "                  V8             V9            V10            V11  \\\n",
              "count  242086.000000  242086.000000  242086.000000  242086.000000   \n",
              "mean       -0.000416      -0.000725       0.000813      -0.001191   \n",
              "std         1.199718       1.099350       1.089895       1.020427   \n",
              "min       -73.216718     -13.434066     -24.588262      -4.797473   \n",
              "25%        -0.208857      -0.645058      -0.534916      -0.764086   \n",
              "50%         0.022160      -0.051370      -0.092078      -0.034728   \n",
              "75%         0.327186       0.597195       0.456105       0.738961   \n",
              "max        20.007208      15.594995      23.745136      12.018913   \n",
              "\n",
              "                 V12            V13            V14            V15  \n",
              "count  242086.000000  242086.000000  242086.000000  242086.000000  \n",
              "mean       -0.000572       0.000072       0.000397       0.000245  \n",
              "std         0.998089       0.996738       0.957170       0.915073  \n",
              "min       -18.683715      -5.791881     -19.214325      -4.498945  \n",
              "25%        -0.406465      -0.649972      -0.425694      -0.583536  \n",
              "50%         0.138776      -0.013510       0.050826       0.048587  \n",
              "75%         0.617590       0.663700       0.493601       0.649324  \n",
              "max         7.848392       4.569009      10.526766       5.825654  "
            ],
            "text/html": [
              "\n",
              "  <div id=\"df-df7cab58-1291-43f6-aaa2-a1ebc4c3cf7d\">\n",
              "    <div class=\"colab-df-container\">\n",
              "      <div>\n",
              "<style scoped>\n",
              "    .dataframe tbody tr th:only-of-type {\n",
              "        vertical-align: middle;\n",
              "    }\n",
              "\n",
              "    .dataframe tbody tr th {\n",
              "        vertical-align: top;\n",
              "    }\n",
              "\n",
              "    .dataframe thead th {\n",
              "        text-align: right;\n",
              "    }\n",
              "</style>\n",
              "<table border=\"1\" class=\"dataframe\">\n",
              "  <thead>\n",
              "    <tr style=\"text-align: right;\">\n",
              "      <th></th>\n",
              "      <th>Time</th>\n",
              "      <th>V1</th>\n",
              "      <th>V2</th>\n",
              "      <th>V3</th>\n",
              "      <th>V4</th>\n",
              "      <th>V5</th>\n",
              "      <th>V6</th>\n",
              "      <th>V7</th>\n",
              "      <th>V8</th>\n",
              "      <th>V9</th>\n",
              "      <th>V10</th>\n",
              "      <th>V11</th>\n",
              "      <th>V12</th>\n",
              "      <th>V13</th>\n",
              "      <th>V14</th>\n",
              "      <th>V15</th>\n",
              "    </tr>\n",
              "  </thead>\n",
              "  <tbody>\n",
              "    <tr>\n",
              "      <th>count</th>\n",
              "      <td>242086.000000</td>\n",
              "      <td>242086.000000</td>\n",
              "      <td>242086.000000</td>\n",
              "      <td>242086.000000</td>\n",
              "      <td>242086.000000</td>\n",
              "      <td>242086.000000</td>\n",
              "      <td>242086.000000</td>\n",
              "      <td>242086.000000</td>\n",
              "      <td>242086.000000</td>\n",
              "      <td>242086.000000</td>\n",
              "      <td>242086.000000</td>\n",
              "      <td>242086.000000</td>\n",
              "      <td>242086.000000</td>\n",
              "      <td>242086.000000</td>\n",
              "      <td>242086.000000</td>\n",
              "      <td>242086.000000</td>\n",
              "    </tr>\n",
              "    <tr>\n",
              "      <th>mean</th>\n",
              "      <td>94857.597379</td>\n",
              "      <td>0.001456</td>\n",
              "      <td>-0.000800</td>\n",
              "      <td>-0.001004</td>\n",
              "      <td>0.000647</td>\n",
              "      <td>-0.000986</td>\n",
              "      <td>-0.001196</td>\n",
              "      <td>-0.000033</td>\n",
              "      <td>-0.000416</td>\n",
              "      <td>-0.000725</td>\n",
              "      <td>0.000813</td>\n",
              "      <td>-0.001191</td>\n",
              "      <td>-0.000572</td>\n",
              "      <td>0.000072</td>\n",
              "      <td>0.000397</td>\n",
              "      <td>0.000245</td>\n",
              "    </tr>\n",
              "    <tr>\n",
              "      <th>std</th>\n",
              "      <td>47490.660832</td>\n",
              "      <td>1.956513</td>\n",
              "      <td>1.654883</td>\n",
              "      <td>1.514580</td>\n",
              "      <td>1.417228</td>\n",
              "      <td>1.366284</td>\n",
              "      <td>1.326879</td>\n",
              "      <td>1.223095</td>\n",
              "      <td>1.199718</td>\n",
              "      <td>1.099350</td>\n",
              "      <td>1.089895</td>\n",
              "      <td>1.020427</td>\n",
              "      <td>0.998089</td>\n",
              "      <td>0.996738</td>\n",
              "      <td>0.957170</td>\n",
              "      <td>0.915073</td>\n",
              "    </tr>\n",
              "    <tr>\n",
              "      <th>min</th>\n",
              "      <td>0.000000</td>\n",
              "      <td>-56.407510</td>\n",
              "      <td>-72.715728</td>\n",
              "      <td>-33.680984</td>\n",
              "      <td>-5.683171</td>\n",
              "      <td>-42.147898</td>\n",
              "      <td>-26.160506</td>\n",
              "      <td>-43.557242</td>\n",
              "      <td>-73.216718</td>\n",
              "      <td>-13.434066</td>\n",
              "      <td>-24.588262</td>\n",
              "      <td>-4.797473</td>\n",
              "      <td>-18.683715</td>\n",
              "      <td>-5.791881</td>\n",
              "      <td>-19.214325</td>\n",
              "      <td>-4.498945</td>\n",
              "    </tr>\n",
              "    <tr>\n",
              "      <th>25%</th>\n",
              "      <td>54234.000000</td>\n",
              "      <td>-0.920406</td>\n",
              "      <td>-0.598659</td>\n",
              "      <td>-0.893374</td>\n",
              "      <td>-0.848236</td>\n",
              "      <td>-0.693615</td>\n",
              "      <td>-0.769025</td>\n",
              "      <td>-0.553805</td>\n",
              "      <td>-0.208857</td>\n",
              "      <td>-0.645058</td>\n",
              "      <td>-0.534916</td>\n",
              "      <td>-0.764086</td>\n",
              "      <td>-0.406465</td>\n",
              "      <td>-0.649972</td>\n",
              "      <td>-0.425694</td>\n",
              "      <td>-0.583536</td>\n",
              "    </tr>\n",
              "    <tr>\n",
              "      <th>50%</th>\n",
              "      <td>84747.000000</td>\n",
              "      <td>0.019230</td>\n",
              "      <td>0.064567</td>\n",
              "      <td>0.177607</td>\n",
              "      <td>-0.018959</td>\n",
              "      <td>-0.054544</td>\n",
              "      <td>-0.274310</td>\n",
              "      <td>0.040344</td>\n",
              "      <td>0.022160</td>\n",
              "      <td>-0.051370</td>\n",
              "      <td>-0.092078</td>\n",
              "      <td>-0.034728</td>\n",
              "      <td>0.138776</td>\n",
              "      <td>-0.013510</td>\n",
              "      <td>0.050826</td>\n",
              "      <td>0.048587</td>\n",
              "    </tr>\n",
              "    <tr>\n",
              "      <th>75%</th>\n",
              "      <td>139362.000000</td>\n",
              "      <td>1.316034</td>\n",
              "      <td>0.803174</td>\n",
              "      <td>1.026561</td>\n",
              "      <td>0.743691</td>\n",
              "      <td>0.611455</td>\n",
              "      <td>0.397688</td>\n",
              "      <td>0.570104</td>\n",
              "      <td>0.327186</td>\n",
              "      <td>0.597195</td>\n",
              "      <td>0.456105</td>\n",
              "      <td>0.738961</td>\n",
              "      <td>0.617590</td>\n",
              "      <td>0.663700</td>\n",
              "      <td>0.493601</td>\n",
              "      <td>0.649324</td>\n",
              "    </tr>\n",
              "    <tr>\n",
              "      <th>max</th>\n",
              "      <td>172792.000000</td>\n",
              "      <td>2.451888</td>\n",
              "      <td>22.057729</td>\n",
              "      <td>9.382558</td>\n",
              "      <td>16.875344</td>\n",
              "      <td>34.801666</td>\n",
              "      <td>23.917837</td>\n",
              "      <td>44.054461</td>\n",
              "      <td>20.007208</td>\n",
              "      <td>15.594995</td>\n",
              "      <td>23.745136</td>\n",
              "      <td>12.018913</td>\n",
              "      <td>7.848392</td>\n",
              "      <td>4.569009</td>\n",
              "      <td>10.526766</td>\n",
              "      <td>5.825654</td>\n",
              "    </tr>\n",
              "  </tbody>\n",
              "</table>\n",
              "</div>\n",
              "      <button class=\"colab-df-convert\" onclick=\"convertToInteractive('df-df7cab58-1291-43f6-aaa2-a1ebc4c3cf7d')\"\n",
              "              title=\"Convert this dataframe to an interactive table.\"\n",
              "              style=\"display:none;\">\n",
              "        \n",
              "  <svg xmlns=\"http://www.w3.org/2000/svg\" height=\"24px\"viewBox=\"0 0 24 24\"\n",
              "       width=\"24px\">\n",
              "    <path d=\"M0 0h24v24H0V0z\" fill=\"none\"/>\n",
              "    <path d=\"M18.56 5.44l.94 2.06.94-2.06 2.06-.94-2.06-.94-.94-2.06-.94 2.06-2.06.94zm-11 1L8.5 8.5l.94-2.06 2.06-.94-2.06-.94L8.5 2.5l-.94 2.06-2.06.94zm10 10l.94 2.06.94-2.06 2.06-.94-2.06-.94-.94-2.06-.94 2.06-2.06.94z\"/><path d=\"M17.41 7.96l-1.37-1.37c-.4-.4-.92-.59-1.43-.59-.52 0-1.04.2-1.43.59L10.3 9.45l-7.72 7.72c-.78.78-.78 2.05 0 2.83L4 21.41c.39.39.9.59 1.41.59.51 0 1.02-.2 1.41-.59l7.78-7.78 2.81-2.81c.8-.78.8-2.07 0-2.86zM5.41 20L4 18.59l7.72-7.72 1.47 1.35L5.41 20z\"/>\n",
              "  </svg>\n",
              "      </button>\n",
              "      \n",
              "  <style>\n",
              "    .colab-df-container {\n",
              "      display:flex;\n",
              "      flex-wrap:wrap;\n",
              "      gap: 12px;\n",
              "    }\n",
              "\n",
              "    .colab-df-convert {\n",
              "      background-color: #E8F0FE;\n",
              "      border: none;\n",
              "      border-radius: 50%;\n",
              "      cursor: pointer;\n",
              "      display: none;\n",
              "      fill: #1967D2;\n",
              "      height: 32px;\n",
              "      padding: 0 0 0 0;\n",
              "      width: 32px;\n",
              "    }\n",
              "\n",
              "    .colab-df-convert:hover {\n",
              "      background-color: #E2EBFA;\n",
              "      box-shadow: 0px 1px 2px rgba(60, 64, 67, 0.3), 0px 1px 3px 1px rgba(60, 64, 67, 0.15);\n",
              "      fill: #174EA6;\n",
              "    }\n",
              "\n",
              "    [theme=dark] .colab-df-convert {\n",
              "      background-color: #3B4455;\n",
              "      fill: #D2E3FC;\n",
              "    }\n",
              "\n",
              "    [theme=dark] .colab-df-convert:hover {\n",
              "      background-color: #434B5C;\n",
              "      box-shadow: 0px 1px 3px 1px rgba(0, 0, 0, 0.15);\n",
              "      filter: drop-shadow(0px 1px 2px rgba(0, 0, 0, 0.3));\n",
              "      fill: #FFFFFF;\n",
              "    }\n",
              "  </style>\n",
              "\n",
              "      <script>\n",
              "        const buttonEl =\n",
              "          document.querySelector('#df-df7cab58-1291-43f6-aaa2-a1ebc4c3cf7d button.colab-df-convert');\n",
              "        buttonEl.style.display =\n",
              "          google.colab.kernel.accessAllowed ? 'block' : 'none';\n",
              "\n",
              "        async function convertToInteractive(key) {\n",
              "          const element = document.querySelector('#df-df7cab58-1291-43f6-aaa2-a1ebc4c3cf7d');\n",
              "          const dataTable =\n",
              "            await google.colab.kernel.invokeFunction('convertToInteractive',\n",
              "                                                     [key], {});\n",
              "          if (!dataTable) return;\n",
              "\n",
              "          const docLinkHtml = 'Like what you see? Visit the ' +\n",
              "            '<a target=\"_blank\" href=https://colab.research.google.com/notebooks/data_table.ipynb>data table notebook</a>'\n",
              "            + ' to learn more about interactive tables.';\n",
              "          element.innerHTML = '';\n",
              "          dataTable['output_type'] = 'display_data';\n",
              "          await google.colab.output.renderOutput(dataTable, element);\n",
              "          const docLink = document.createElement('div');\n",
              "          docLink.innerHTML = docLinkHtml;\n",
              "          element.appendChild(docLink);\n",
              "        }\n",
              "      </script>\n",
              "    </div>\n",
              "  </div>\n",
              "  "
            ]
          },
          "metadata": {},
          "execution_count": 8
        }
      ]
    },
    {
      "cell_type": "code",
      "source": [
        "# Showing statistical summary of the 15 last variables\n",
        "df.loc[:,\"V16\":\"Class\"].describe()"
      ],
      "metadata": {
        "colab": {
          "base_uri": "https://localhost:8080/",
          "height": 364
        },
        "id": "ImMyunnOdb3S",
        "outputId": "22018841-9277-443a-8aa6-32c3df4338c0"
      },
      "execution_count": 9,
      "outputs": [
        {
          "output_type": "execute_result",
          "data": {
            "text/plain": [
              "                 V16            V17            V18            V19  \\\n",
              "count  242086.000000  242086.000000  242086.000000  242086.000000   \n",
              "mean        0.000511       0.000385      -0.000521       0.000345   \n",
              "std         0.875791       0.849826       0.837399       0.814400   \n",
              "min       -14.129855     -25.162799      -9.498746      -7.213527   \n",
              "25%        -0.467684      -0.484121      -0.499053      -0.456331   \n",
              "50%         0.067503      -0.065976      -0.004100       0.003691   \n",
              "75%         0.523874       0.399821       0.500078       0.459794   \n",
              "max         7.059132       9.207059       5.041069       5.572113   \n",
              "\n",
              "                 V20            V21            V22            V23  \\\n",
              "count  242086.000000  242086.000000  242086.000000  242086.000000   \n",
              "mean        0.001813      -0.000015       0.000606      -0.000482   \n",
              "std         0.763759       0.734189       0.726284       0.629651   \n",
              "min       -25.222345     -34.830382     -10.933144     -44.807735   \n",
              "25%        -0.211369      -0.228492      -0.542962      -0.161941   \n",
              "50%        -0.062290      -0.028987       0.007162      -0.011175   \n",
              "75%         0.133355       0.187064       0.529814       0.147358   \n",
              "max        39.420904      27.202839      10.503090      22.528412   \n",
              "\n",
              "                 V24            V25            V26            V27  \\\n",
              "count  242086.000000  242086.000000  242086.000000  242086.000000   \n",
              "mean        0.000199       0.000048      -0.000269      -0.000727   \n",
              "std         0.605150       0.521574       0.482084       0.401490   \n",
              "min        -2.822684     -10.295397      -2.604551     -22.565679   \n",
              "25%        -0.354494      -0.316853      -0.327387      -0.070744   \n",
              "50%         0.040764       0.017175      -0.052337       0.001131   \n",
              "75%         0.439320       0.350795       0.241214       0.090776   \n",
              "max         4.022866       7.519589       3.517346      12.152401   \n",
              "\n",
              "                 V28         Amount          Class  \n",
              "count  242086.000000  242086.000000  242086.000000  \n",
              "mean        0.000065      88.612429       0.001727  \n",
              "std         0.327734     247.655020       0.041517  \n",
              "min       -11.710896       0.000000       0.000000  \n",
              "25%        -0.052903       5.662500       0.000000  \n",
              "50%         0.011209      22.000000       0.000000  \n",
              "75%         0.078234      77.580000       0.000000  \n",
              "max        33.847808   19656.530000       1.000000  "
            ],
            "text/html": [
              "\n",
              "  <div id=\"df-0293f42b-ac41-48d8-83c9-de5511ebcec8\">\n",
              "    <div class=\"colab-df-container\">\n",
              "      <div>\n",
              "<style scoped>\n",
              "    .dataframe tbody tr th:only-of-type {\n",
              "        vertical-align: middle;\n",
              "    }\n",
              "\n",
              "    .dataframe tbody tr th {\n",
              "        vertical-align: top;\n",
              "    }\n",
              "\n",
              "    .dataframe thead th {\n",
              "        text-align: right;\n",
              "    }\n",
              "</style>\n",
              "<table border=\"1\" class=\"dataframe\">\n",
              "  <thead>\n",
              "    <tr style=\"text-align: right;\">\n",
              "      <th></th>\n",
              "      <th>V16</th>\n",
              "      <th>V17</th>\n",
              "      <th>V18</th>\n",
              "      <th>V19</th>\n",
              "      <th>V20</th>\n",
              "      <th>V21</th>\n",
              "      <th>V22</th>\n",
              "      <th>V23</th>\n",
              "      <th>V24</th>\n",
              "      <th>V25</th>\n",
              "      <th>V26</th>\n",
              "      <th>V27</th>\n",
              "      <th>V28</th>\n",
              "      <th>Amount</th>\n",
              "      <th>Class</th>\n",
              "    </tr>\n",
              "  </thead>\n",
              "  <tbody>\n",
              "    <tr>\n",
              "      <th>count</th>\n",
              "      <td>242086.000000</td>\n",
              "      <td>242086.000000</td>\n",
              "      <td>242086.000000</td>\n",
              "      <td>242086.000000</td>\n",
              "      <td>242086.000000</td>\n",
              "      <td>242086.000000</td>\n",
              "      <td>242086.000000</td>\n",
              "      <td>242086.000000</td>\n",
              "      <td>242086.000000</td>\n",
              "      <td>242086.000000</td>\n",
              "      <td>242086.000000</td>\n",
              "      <td>242086.000000</td>\n",
              "      <td>242086.000000</td>\n",
              "      <td>242086.000000</td>\n",
              "      <td>242086.000000</td>\n",
              "    </tr>\n",
              "    <tr>\n",
              "      <th>mean</th>\n",
              "      <td>0.000511</td>\n",
              "      <td>0.000385</td>\n",
              "      <td>-0.000521</td>\n",
              "      <td>0.000345</td>\n",
              "      <td>0.001813</td>\n",
              "      <td>-0.000015</td>\n",
              "      <td>0.000606</td>\n",
              "      <td>-0.000482</td>\n",
              "      <td>0.000199</td>\n",
              "      <td>0.000048</td>\n",
              "      <td>-0.000269</td>\n",
              "      <td>-0.000727</td>\n",
              "      <td>0.000065</td>\n",
              "      <td>88.612429</td>\n",
              "      <td>0.001727</td>\n",
              "    </tr>\n",
              "    <tr>\n",
              "      <th>std</th>\n",
              "      <td>0.875791</td>\n",
              "      <td>0.849826</td>\n",
              "      <td>0.837399</td>\n",
              "      <td>0.814400</td>\n",
              "      <td>0.763759</td>\n",
              "      <td>0.734189</td>\n",
              "      <td>0.726284</td>\n",
              "      <td>0.629651</td>\n",
              "      <td>0.605150</td>\n",
              "      <td>0.521574</td>\n",
              "      <td>0.482084</td>\n",
              "      <td>0.401490</td>\n",
              "      <td>0.327734</td>\n",
              "      <td>247.655020</td>\n",
              "      <td>0.041517</td>\n",
              "    </tr>\n",
              "    <tr>\n",
              "      <th>min</th>\n",
              "      <td>-14.129855</td>\n",
              "      <td>-25.162799</td>\n",
              "      <td>-9.498746</td>\n",
              "      <td>-7.213527</td>\n",
              "      <td>-25.222345</td>\n",
              "      <td>-34.830382</td>\n",
              "      <td>-10.933144</td>\n",
              "      <td>-44.807735</td>\n",
              "      <td>-2.822684</td>\n",
              "      <td>-10.295397</td>\n",
              "      <td>-2.604551</td>\n",
              "      <td>-22.565679</td>\n",
              "      <td>-11.710896</td>\n",
              "      <td>0.000000</td>\n",
              "      <td>0.000000</td>\n",
              "    </tr>\n",
              "    <tr>\n",
              "      <th>25%</th>\n",
              "      <td>-0.467684</td>\n",
              "      <td>-0.484121</td>\n",
              "      <td>-0.499053</td>\n",
              "      <td>-0.456331</td>\n",
              "      <td>-0.211369</td>\n",
              "      <td>-0.228492</td>\n",
              "      <td>-0.542962</td>\n",
              "      <td>-0.161941</td>\n",
              "      <td>-0.354494</td>\n",
              "      <td>-0.316853</td>\n",
              "      <td>-0.327387</td>\n",
              "      <td>-0.070744</td>\n",
              "      <td>-0.052903</td>\n",
              "      <td>5.662500</td>\n",
              "      <td>0.000000</td>\n",
              "    </tr>\n",
              "    <tr>\n",
              "      <th>50%</th>\n",
              "      <td>0.067503</td>\n",
              "      <td>-0.065976</td>\n",
              "      <td>-0.004100</td>\n",
              "      <td>0.003691</td>\n",
              "      <td>-0.062290</td>\n",
              "      <td>-0.028987</td>\n",
              "      <td>0.007162</td>\n",
              "      <td>-0.011175</td>\n",
              "      <td>0.040764</td>\n",
              "      <td>0.017175</td>\n",
              "      <td>-0.052337</td>\n",
              "      <td>0.001131</td>\n",
              "      <td>0.011209</td>\n",
              "      <td>22.000000</td>\n",
              "      <td>0.000000</td>\n",
              "    </tr>\n",
              "    <tr>\n",
              "      <th>75%</th>\n",
              "      <td>0.523874</td>\n",
              "      <td>0.399821</td>\n",
              "      <td>0.500078</td>\n",
              "      <td>0.459794</td>\n",
              "      <td>0.133355</td>\n",
              "      <td>0.187064</td>\n",
              "      <td>0.529814</td>\n",
              "      <td>0.147358</td>\n",
              "      <td>0.439320</td>\n",
              "      <td>0.350795</td>\n",
              "      <td>0.241214</td>\n",
              "      <td>0.090776</td>\n",
              "      <td>0.078234</td>\n",
              "      <td>77.580000</td>\n",
              "      <td>0.000000</td>\n",
              "    </tr>\n",
              "    <tr>\n",
              "      <th>max</th>\n",
              "      <td>7.059132</td>\n",
              "      <td>9.207059</td>\n",
              "      <td>5.041069</td>\n",
              "      <td>5.572113</td>\n",
              "      <td>39.420904</td>\n",
              "      <td>27.202839</td>\n",
              "      <td>10.503090</td>\n",
              "      <td>22.528412</td>\n",
              "      <td>4.022866</td>\n",
              "      <td>7.519589</td>\n",
              "      <td>3.517346</td>\n",
              "      <td>12.152401</td>\n",
              "      <td>33.847808</td>\n",
              "      <td>19656.530000</td>\n",
              "      <td>1.000000</td>\n",
              "    </tr>\n",
              "  </tbody>\n",
              "</table>\n",
              "</div>\n",
              "      <button class=\"colab-df-convert\" onclick=\"convertToInteractive('df-0293f42b-ac41-48d8-83c9-de5511ebcec8')\"\n",
              "              title=\"Convert this dataframe to an interactive table.\"\n",
              "              style=\"display:none;\">\n",
              "        \n",
              "  <svg xmlns=\"http://www.w3.org/2000/svg\" height=\"24px\"viewBox=\"0 0 24 24\"\n",
              "       width=\"24px\">\n",
              "    <path d=\"M0 0h24v24H0V0z\" fill=\"none\"/>\n",
              "    <path d=\"M18.56 5.44l.94 2.06.94-2.06 2.06-.94-2.06-.94-.94-2.06-.94 2.06-2.06.94zm-11 1L8.5 8.5l.94-2.06 2.06-.94-2.06-.94L8.5 2.5l-.94 2.06-2.06.94zm10 10l.94 2.06.94-2.06 2.06-.94-2.06-.94-.94-2.06-.94 2.06-2.06.94z\"/><path d=\"M17.41 7.96l-1.37-1.37c-.4-.4-.92-.59-1.43-.59-.52 0-1.04.2-1.43.59L10.3 9.45l-7.72 7.72c-.78.78-.78 2.05 0 2.83L4 21.41c.39.39.9.59 1.41.59.51 0 1.02-.2 1.41-.59l7.78-7.78 2.81-2.81c.8-.78.8-2.07 0-2.86zM5.41 20L4 18.59l7.72-7.72 1.47 1.35L5.41 20z\"/>\n",
              "  </svg>\n",
              "      </button>\n",
              "      \n",
              "  <style>\n",
              "    .colab-df-container {\n",
              "      display:flex;\n",
              "      flex-wrap:wrap;\n",
              "      gap: 12px;\n",
              "    }\n",
              "\n",
              "    .colab-df-convert {\n",
              "      background-color: #E8F0FE;\n",
              "      border: none;\n",
              "      border-radius: 50%;\n",
              "      cursor: pointer;\n",
              "      display: none;\n",
              "      fill: #1967D2;\n",
              "      height: 32px;\n",
              "      padding: 0 0 0 0;\n",
              "      width: 32px;\n",
              "    }\n",
              "\n",
              "    .colab-df-convert:hover {\n",
              "      background-color: #E2EBFA;\n",
              "      box-shadow: 0px 1px 2px rgba(60, 64, 67, 0.3), 0px 1px 3px 1px rgba(60, 64, 67, 0.15);\n",
              "      fill: #174EA6;\n",
              "    }\n",
              "\n",
              "    [theme=dark] .colab-df-convert {\n",
              "      background-color: #3B4455;\n",
              "      fill: #D2E3FC;\n",
              "    }\n",
              "\n",
              "    [theme=dark] .colab-df-convert:hover {\n",
              "      background-color: #434B5C;\n",
              "      box-shadow: 0px 1px 3px 1px rgba(0, 0, 0, 0.15);\n",
              "      filter: drop-shadow(0px 1px 2px rgba(0, 0, 0, 0.3));\n",
              "      fill: #FFFFFF;\n",
              "    }\n",
              "  </style>\n",
              "\n",
              "      <script>\n",
              "        const buttonEl =\n",
              "          document.querySelector('#df-0293f42b-ac41-48d8-83c9-de5511ebcec8 button.colab-df-convert');\n",
              "        buttonEl.style.display =\n",
              "          google.colab.kernel.accessAllowed ? 'block' : 'none';\n",
              "\n",
              "        async function convertToInteractive(key) {\n",
              "          const element = document.querySelector('#df-0293f42b-ac41-48d8-83c9-de5511ebcec8');\n",
              "          const dataTable =\n",
              "            await google.colab.kernel.invokeFunction('convertToInteractive',\n",
              "                                                     [key], {});\n",
              "          if (!dataTable) return;\n",
              "\n",
              "          const docLinkHtml = 'Like what you see? Visit the ' +\n",
              "            '<a target=\"_blank\" href=https://colab.research.google.com/notebooks/data_table.ipynb>data table notebook</a>'\n",
              "            + ' to learn more about interactive tables.';\n",
              "          element.innerHTML = '';\n",
              "          dataTable['output_type'] = 'display_data';\n",
              "          await google.colab.output.renderOutput(dataTable, element);\n",
              "          const docLink = document.createElement('div');\n",
              "          docLink.innerHTML = docLinkHtml;\n",
              "          element.appendChild(docLink);\n",
              "        }\n",
              "      </script>\n",
              "    </div>\n",
              "  </div>\n",
              "  "
            ]
          },
          "metadata": {},
          "execution_count": 9
        }
      ]
    },
    {
      "cell_type": "markdown",
      "source": [
        "From the following code, we can see that the data set has no problems with missing values since all 31 columns have filled values."
      ],
      "metadata": {
        "id": "XREMA4T-zxjN"
      }
    },
    {
      "cell_type": "code",
      "source": [
        "# Checking null values\n",
        "( ( df.isnull().sum() / df.shape[0] ) * 100 )"
      ],
      "metadata": {
        "colab": {
          "base_uri": "https://localhost:8080/"
        },
        "id": "kjJVi8qYe25k",
        "outputId": "c36084f3-ae91-4b4c-bd5c-0a7255606f75"
      },
      "execution_count": 10,
      "outputs": [
        {
          "output_type": "execute_result",
          "data": {
            "text/plain": [
              "Time      0.0\n",
              "V1        0.0\n",
              "V2        0.0\n",
              "V3        0.0\n",
              "V4        0.0\n",
              "V5        0.0\n",
              "V6        0.0\n",
              "V7        0.0\n",
              "V8        0.0\n",
              "V9        0.0\n",
              "V10       0.0\n",
              "V11       0.0\n",
              "V12       0.0\n",
              "V13       0.0\n",
              "V14       0.0\n",
              "V15       0.0\n",
              "V16       0.0\n",
              "V17       0.0\n",
              "V18       0.0\n",
              "V19       0.0\n",
              "V20       0.0\n",
              "V21       0.0\n",
              "V22       0.0\n",
              "V23       0.0\n",
              "V24       0.0\n",
              "V25       0.0\n",
              "V26       0.0\n",
              "V27       0.0\n",
              "V28       0.0\n",
              "Amount    0.0\n",
              "Class     0.0\n",
              "dtype: float64"
            ]
          },
          "metadata": {},
          "execution_count": 10
        }
      ]
    },
    {
      "cell_type": "markdown",
      "source": [
        "As we can see, the data set is considerably unbalanced, as frauds account for less than 1% of the total."
      ],
      "metadata": {
        "id": "yvXrtJS60N37"
      }
    },
    {
      "cell_type": "code",
      "source": [
        "# Check the class balancing\n",
        "print(df.Class.value_counts())\n",
        "print(\"\\nFrauds represent {:.4f}% of the dataset.\\n\".format((df[df.Class == 1].shape[0] / df.shape[0]) * 100))"
      ],
      "metadata": {
        "colab": {
          "base_uri": "https://localhost:8080/"
        },
        "id": "N8kjEbtBiJNG",
        "outputId": "1b3ddb33-d3fb-460c-f706-c3b55fcd26d0"
      },
      "execution_count": 11,
      "outputs": [
        {
          "output_type": "stream",
          "name": "stdout",
          "text": [
            "0    241668\n",
            "1       418\n",
            "Name: Class, dtype: int64\n",
            "\n",
            "Frauds represent 0.1727% of the dataset.\n",
            "\n"
          ]
        }
      ]
    },
    {
      "cell_type": "code",
      "source": [
        "# Plot the number of normal and fraudulent transactions on a bar chart\n",
        "fig, ax = plt.subplots(figsize=(6,4))\n",
        "\n",
        "classes = ['Normals', 'Frauds']\n",
        "operacoes = [df.Class.value_counts()[0], df.Class.value_counts()[1]]\n",
        "ax.bar(classes, operacoes, width=0.7)\n",
        "\n",
        "# Placing Values on the Graph\n",
        "for i, j in enumerate(operacoes):\n",
        "    valor = '{:,.0f}'. format(j).replace(',','.')\n",
        "    if i == 0:\n",
        "      ax.annotate(\n",
        "        valor,\n",
        "        xy=(i, j),\n",
        "        xytext=(-20,2),\n",
        "        textcoords='offset points',\n",
        "        fontsize=12,\n",
        "        #fontweight='medium'\n",
        "      )\n",
        "    else:\n",
        "      ax.annotate(\n",
        "        valor,\n",
        "        xy=(i, j),\n",
        "        xytext=(-10,2),\n",
        "        textcoords='offset points',\n",
        "        fontsize=12,\n",
        "        #fontweight='medium'\n",
        "      )\n",
        "    \n",
        "# Setting title\n",
        "ax.set_title('Class Distribution')    \n",
        "\n",
        "# remover spines da direita e superior\n",
        "ax.spines['right'].set_visible(False)\n",
        "ax.spines['left'].set_visible(False)\n",
        "ax.spines['top'].set_visible(False)\n",
        "\n",
        "# remover yticks e yticklabels\n",
        "ax.set_yticklabels(labels=[], visible=False)\n",
        "ax.set_yticks(ticks=[])\n",
        "\n",
        "plt.tight_layout()"
      ],
      "metadata": {
        "colab": {
          "base_uri": "https://localhost:8080/",
          "height": 297
        },
        "id": "Bq-hTrCvkU_N",
        "outputId": "aae5b583-26ae-453a-a625-df861afcf219"
      },
      "execution_count": 12,
      "outputs": [
        {
          "output_type": "display_data",
          "data": {
            "text/plain": [
              "<Figure size 432x288 with 1 Axes>"
            ],
            "image/png": "[encoded data removed]"
          },
          "metadata": {
            "needs_background": "light"
          }
        }
      ]
    },
    {
      "cell_type": "markdown",
      "source": [
        "Two graphs were also plotted in order to compare the distributions of the 2 classes along the (`Time`) dimension. However, no conclusions can be drawn from this graph, because the data distribution shows no pattern (several peaks) and is far from a normal distribution."
      ],
      "metadata": {
        "id": "aP6zGkiu1ezz"
      }
    },
    {
      "cell_type": "code",
      "source": [
        "# Plot the histogram of operations by time\n",
        "fig, ax = plt.subplots(nrows=2, ncols=1, figsize=(12,6))\n",
        "\n",
        "num_bins = 40\n",
        "\n",
        "ax[0].hist(df.Time[df.Class == 0], bins = num_bins, rwidth = 0.9)\n",
        "ax[0].set_title('Normal')\n",
        "\n",
        "ax[1].hist(df.Time[df.Class == 1], bins = num_bins, rwidth = 0.9)\n",
        "ax[1].set_title('Fraud')\n",
        "\n",
        "plt.xlabel('Time (secs)')\n",
        "plt.ylabel('Transactions')\n",
        "\n",
        "plt.tight_layout()"
      ],
      "metadata": {
        "id": "NrYHWdv5IOjc",
        "colab": {
          "base_uri": "https://localhost:8080/",
          "height": 441
        },
        "outputId": "1eb87b74-bfb3-41c2-f56e-7014c9272f05"
      },
      "execution_count": 13,
      "outputs": [
        {
          "output_type": "display_data",
          "data": {
            "text/plain": [
              "<Figure size 864x432 with 2 Axes>"
            ],
            "image/png": "[encoded data removed]"
          },
          "metadata": {
            "needs_background": "light"
          }
        }
      ]
    },
    {
      "cell_type": "markdown",
      "source": [
        "We also plotted two graphs in order to compare the distributions of the 2 classes along the quantity (`Amount`) dimension. From this histogram, it can be concluded that for fraudulent transactions, they are generally made to extract amounts of less than $500."
      ],
      "metadata": {
        "id": "Hx9MJ2Sq1sMr"
      }
    },
    {
      "cell_type": "code",
      "source": [
        "# Plot the histogram of operations by quantity\n",
        "fig, ax = plt.subplots(nrows=2, ncols=1, figsize=(12,6))\n",
        "\n",
        "num_bins = 40\n",
        "\n",
        "ax[0].hist(df.Amount[df.Class == 0], bins = num_bins, rwidth = 0.9)\n",
        "ax[0].set_title('Normal')\n",
        "\n",
        "ax[1].hist(df.Amount[df.Class == 1], bins = num_bins, rwidth = 0.9)\n",
        "ax[1].set_title('Fraud')\n",
        "\n",
        "plt.xlabel('Amount (R$)')\n",
        "plt.ylabel('Transactions')\n",
        "\n",
        "plt.tight_layout()"
      ],
      "metadata": {
        "colab": {
          "base_uri": "https://localhost:8080/",
          "height": 441
        },
        "id": "8N6jGNTGys90",
        "outputId": "d84707d1-503c-4dda-9724-9493300c1e0f"
      },
      "execution_count": 14,
      "outputs": [
        {
          "output_type": "display_data",
          "data": {
            "text/plain": [
              "<Figure size 864x432 with 2 Axes>"
            ],
            "image/png": "[encoded data removed]"
          },
          "metadata": {
            "needs_background": "light"
          }
        }
      ]
    },
    {
      "cell_type": "code",
      "source": [
        "# Plot a boxplot for the variable Amount when there was fraud (Class == 1)\n",
        "fig, ax = plt.subplots(figsize=(12,3))\n",
        "\n",
        "df[df.Class == 1].boxplot('Amount', vert = False, ax = ax, patch_artist = True,\n",
        "                          widths = 0.4,\n",
        "                          showmeans = True,\n",
        "                          medianprops={\"color\": \"red\", \"linewidth\": 0.8},\n",
        "                          boxprops={\"facecolor\": \"lightblue\", \"edgecolor\": \"darkblue\", \"linewidth\": 0.7,},\n",
        "                          whiskerprops={\"color\": \"darkblue\", \"linewidth\": 1.0},\n",
        "                          capprops={\"color\": \"darkblue\", \"linewidth\": 1.0}\n",
        "                          )\n",
        "# Setting title\n",
        "ax.set_title(\"Boxplot of the amount of fraud operations\")\n",
        "\n",
        "# Format y axis\n",
        "a=0\n",
        "intervalo = [-250]\n",
        "while a < 2251:\n",
        "  if a <= 500:\n",
        "    intervalo.append(a)\n",
        "    a += 100\n",
        "  elif a > 500:\n",
        "    if a == 600:\n",
        "      a = 500\n",
        "    intervalo.append(a)\n",
        "    a += 250\n",
        "ax.set_xticks(intervalo)\n",
        "\n",
        "#intervalo = [-250,0,range(0,501,50),range(500,2251,250)]\n",
        "\n",
        "plt.tight_layout()\n",
        "\n",
        "print(intervalo)"
      ],
      "metadata": {
        "colab": {
          "base_uri": "https://localhost:8080/",
          "height": 242
        },
        "id": "uSjQcnbz3GJp",
        "outputId": "48059093-ba26-4a88-ba8e-aa26fc2c2f75"
      },
      "execution_count": 15,
      "outputs": [
        {
          "output_type": "stream",
          "name": "stdout",
          "text": [
            "[-250, 0, 100, 200, 300, 400, 500, 500, 750, 1000, 1250, 1500, 1750, 2000, 2250]\n"
          ]
        },
        {
          "output_type": "display_data",
          "data": {
            "text/plain": [
              "<Figure size 864x216 with 1 Axes>"
            ],
            "image/png": "[encoded data removed]"
          },
          "metadata": {
            "needs_background": "light"
          }
        }
      ]
    },
    {
      "cell_type": "code",
      "source": [
        "# Plot a boxplot of the quantity for when there was and was not fraud\n",
        "fig, ax = plt.subplots(figsize=(6,10), sharex=True)\n",
        "\n",
        "sns.boxplot(df.Class, df.Amount, showmeans=True, ax=ax)\n",
        "plt.ylim((-20, 400))\n",
        "plt.xticks([0, 1], ['Normal', 'Fraud'])\n",
        "\n",
        "plt.tight_layout()"
      ],
      "metadata": {
        "colab": {
          "base_uri": "https://localhost:8080/",
          "height": 784
        },
        "id": "XkhYE8T1j-xB",
        "outputId": "c4ee41b4-9ad7-430a-ef07-c2a4c701a987"
      },
      "execution_count": 16,
      "outputs": [
        {
          "output_type": "stream",
          "name": "stderr",
          "text": [
            "/usr/local/lib/python3.8/dist-packages/seaborn/_decorators.py:36: FutureWarning: Pass the following variables as keyword args: x, y. From version 0.12, the only valid positional argument will be `data`, and passing other arguments without an explicit keyword will result in an error or misinterpretation.\n",
            "  warnings.warn(\n"
          ]
        },
        {
          "output_type": "display_data",
          "data": {
            "text/plain": [
              "<Figure size 432x720 with 1 Axes>"
            ],
            "image/png": "[encoded data removed]"
          },
          "metadata": {
            "needs_background": "light"
          }
        }
      ]
    },
    {
      "cell_type": "markdown",
      "metadata": {
        "id": "ULe7z0jZt0EH"
      },
      "source": [
        "## Data Treatment\n",
        "\n",
        "* Normalize the data that had not been preprocessed (`Time` and `Amount`)\n",
        "* Split the data set between training and validation\n",
        "* [*Recommended*] Balance the data set"
      ]
    },
    {
      "cell_type": "markdown",
      "source": [
        "**Standardize `Time` and `Amount` **\n",
        "\n",
        "For this step, since the `Amount` column has *outliers* we will use standardization through the `StandardScaler` class."
      ],
      "metadata": {
        "id": "bPJcYYnovBxw"
      }
    },
    {
      "cell_type": "code",
      "source": [
        "# Standardize the Time and Amount columns\n",
        "df_clean = df.copy()\n",
        "\n",
        "std_scaler = StandardScaler()\n",
        "\n",
        "df_clean['std_amount'] = std_scaler.fit_transform(df_clean['Amount'].values.reshape(-1,1))\n",
        "df_clean['std_time'] = std_scaler.fit_transform(df_clean['Time'].values.reshape(-1,1))\n",
        "\n",
        "df_clean.drop(['Time', 'Amount'], axis = 1, inplace = True)\n",
        "\n",
        "# Show 5 first entries\n",
        "df_clean.head()"
      ],
      "metadata": {
        "colab": {
          "base_uri": "https://localhost:8080/",
          "height": 299
        },
        "id": "B-BpiVnYu76A",
        "outputId": "713a1139-1d56-40fa-b719-e6fa1a3df461"
      },
      "execution_count": 17,
      "outputs": [
        {
          "output_type": "execute_result",
          "data": {
            "text/plain": [
              "         V1        V2        V3        V4        V5        V6        V7  \\\n",
              "0 -1.359807 -0.072781  2.536347  1.378155 -0.338321  0.462388  0.239599   \n",
              "1  1.191857  0.266151  0.166480  0.448154  0.060018 -0.082361 -0.078803   \n",
              "2 -1.358354 -1.340163  1.773209  0.379780 -0.503198  1.800499  0.791461   \n",
              "3 -0.966272 -0.185226  1.792993 -0.863291 -0.010309  1.247203  0.237609   \n",
              "4 -1.158233  0.877737  1.548718  0.403034 -0.407193  0.095921  0.592941   \n",
              "\n",
              "         V8        V9       V10  ...       V22       V23       V24       V25  \\\n",
              "0  0.098698  0.363787  0.090794  ...  0.277838 -0.110474  0.066928  0.128539   \n",
              "1  0.085102 -0.255425 -0.166974  ... -0.638672  0.101288 -0.339846  0.167170   \n",
              "2  0.247676 -1.514654  0.207643  ...  0.771679  0.909412 -0.689281 -0.327642   \n",
              "3  0.377436 -1.387024 -0.054952  ...  0.005274 -0.190321 -1.175575  0.647376   \n",
              "4 -0.270533  0.817739  0.753074  ...  0.798278 -0.137458  0.141267 -0.206010   \n",
              "\n",
              "        V26       V27       V28  Class  std_amount  std_time  \n",
              "0 -0.189115  0.133558 -0.021053      0    0.246341 -1.997399  \n",
              "1  0.125895 -0.008983  0.014724      0   -0.346945 -1.997399  \n",
              "2 -0.139097 -0.055353 -0.059752      0    1.171178 -1.997378  \n",
              "3 -0.221929  0.062723  0.061458      0    0.140872 -1.997378  \n",
              "4  0.502292  0.219422  0.215153      0   -0.075195 -1.997357  \n",
              "\n",
              "[5 rows x 31 columns]"
            ],
            "text/html": [
              "\n",
              "  <div id=\"df-d1df4835-c377-420a-984e-ae443f8a932d\">\n",
              "    <div class=\"colab-df-container\">\n",
              "      <div>\n",
              "<style scoped>\n",
              "    .dataframe tbody tr th:only-of-type {\n",
              "        vertical-align: middle;\n",
              "    }\n",
              "\n",
              "    .dataframe tbody tr th {\n",
              "        vertical-align: top;\n",
              "    }\n",
              "\n",
              "    .dataframe thead th {\n",
              "        text-align: right;\n",
              "    }\n",
              "</style>\n",
              "<table border=\"1\" class=\"dataframe\">\n",
              "  <thead>\n",
              "    <tr style=\"text-align: right;\">\n",
              "      <th></th>\n",
              "      <th>V1</th>\n",
              "      <th>V2</th>\n",
              "      <th>V3</th>\n",
              "      <th>V4</th>\n",
              "      <th>V5</th>\n",
              "      <th>V6</th>\n",
              "      <th>V7</th>\n",
              "      <th>V8</th>\n",
              "      <th>V9</th>\n",
              "      <th>V10</th>\n",
              "      <th>...</th>\n",
              "      <th>V22</th>\n",
              "      <th>V23</th>\n",
              "      <th>V24</th>\n",
              "      <th>V25</th>\n",
              "      <th>V26</th>\n",
              "      <th>V27</th>\n",
              "      <th>V28</th>\n",
              "      <th>Class</th>\n",
              "      <th>std_amount</th>\n",
              "      <th>std_time</th>\n",
              "    </tr>\n",
              "  </thead>\n",
              "  <tbody>\n",
              "    <tr>\n",
              "      <th>0</th>\n",
              "      <td>-1.359807</td>\n",
              "      <td>-0.072781</td>\n",
              "      <td>2.536347</td>\n",
              "      <td>1.378155</td>\n",
              "      <td>-0.338321</td>\n",
              "      <td>0.462388</td>\n",
              "      <td>0.239599</td>\n",
              "      <td>0.098698</td>\n",
              "      <td>0.363787</td>\n",
              "      <td>0.090794</td>\n",
              "      <td>...</td>\n",
              "      <td>0.277838</td>\n",
              "      <td>-0.110474</td>\n",
              "      <td>0.066928</td>\n",
              "      <td>0.128539</td>\n",
              "      <td>-0.189115</td>\n",
              "      <td>0.133558</td>\n",
              "      <td>-0.021053</td>\n",
              "      <td>0</td>\n",
              "      <td>0.246341</td>\n",
              "      <td>-1.997399</td>\n",
              "    </tr>\n",
              "    <tr>\n",
              "      <th>1</th>\n",
              "      <td>1.191857</td>\n",
              "      <td>0.266151</td>\n",
              "      <td>0.166480</td>\n",
              "      <td>0.448154</td>\n",
              "      <td>0.060018</td>\n",
              "      <td>-0.082361</td>\n",
              "      <td>-0.078803</td>\n",
              "      <td>0.085102</td>\n",
              "      <td>-0.255425</td>\n",
              "      <td>-0.166974</td>\n",
              "      <td>...</td>\n",
              "      <td>-0.638672</td>\n",
              "      <td>0.101288</td>\n",
              "      <td>-0.339846</td>\n",
              "      <td>0.167170</td>\n",
              "      <td>0.125895</td>\n",
              "      <td>-0.008983</td>\n",
              "      <td>0.014724</td>\n",
              "      <td>0</td>\n",
              "      <td>-0.346945</td>\n",
              "      <td>-1.997399</td>\n",
              "    </tr>\n",
              "    <tr>\n",
              "      <th>2</th>\n",
              "      <td>-1.358354</td>\n",
              "      <td>-1.340163</td>\n",
              "      <td>1.773209</td>\n",
              "      <td>0.379780</td>\n",
              "      <td>-0.503198</td>\n",
              "      <td>1.800499</td>\n",
              "      <td>0.791461</td>\n",
              "      <td>0.247676</td>\n",
              "      <td>-1.514654</td>\n",
              "      <td>0.207643</td>\n",
              "      <td>...</td>\n",
              "      <td>0.771679</td>\n",
              "      <td>0.909412</td>\n",
              "      <td>-0.689281</td>\n",
              "      <td>-0.327642</td>\n",
              "      <td>-0.139097</td>\n",
              "      <td>-0.055353</td>\n",
              "      <td>-0.059752</td>\n",
              "      <td>0</td>\n",
              "      <td>1.171178</td>\n",
              "      <td>-1.997378</td>\n",
              "    </tr>\n",
              "    <tr>\n",
              "      <th>3</th>\n",
              "      <td>-0.966272</td>\n",
              "      <td>-0.185226</td>\n",
              "      <td>1.792993</td>\n",
              "      <td>-0.863291</td>\n",
              "      <td>-0.010309</td>\n",
              "      <td>1.247203</td>\n",
              "      <td>0.237609</td>\n",
              "      <td>0.377436</td>\n",
              "      <td>-1.387024</td>\n",
              "      <td>-0.054952</td>\n",
              "      <td>...</td>\n",
              "      <td>0.005274</td>\n",
              "      <td>-0.190321</td>\n",
              "      <td>-1.175575</td>\n",
              "      <td>0.647376</td>\n",
              "      <td>-0.221929</td>\n",
              "      <td>0.062723</td>\n",
              "      <td>0.061458</td>\n",
              "      <td>0</td>\n",
              "      <td>0.140872</td>\n",
              "      <td>-1.997378</td>\n",
              "    </tr>\n",
              "    <tr>\n",
              "      <th>4</th>\n",
              "      <td>-1.158233</td>\n",
              "      <td>0.877737</td>\n",
              "      <td>1.548718</td>\n",
              "      <td>0.403034</td>\n",
              "      <td>-0.407193</td>\n",
              "      <td>0.095921</td>\n",
              "      <td>0.592941</td>\n",
              "      <td>-0.270533</td>\n",
              "      <td>0.817739</td>\n",
              "      <td>0.753074</td>\n",
              "      <td>...</td>\n",
              "      <td>0.798278</td>\n",
              "      <td>-0.137458</td>\n",
              "      <td>0.141267</td>\n",
              "      <td>-0.206010</td>\n",
              "      <td>0.502292</td>\n",
              "      <td>0.219422</td>\n",
              "      <td>0.215153</td>\n",
              "      <td>0</td>\n",
              "      <td>-0.075195</td>\n",
              "      <td>-1.997357</td>\n",
              "    </tr>\n",
              "  </tbody>\n",
              "</table>\n",
              "<p>5 rows × 31 columns</p>\n",
              "</div>\n",
              "      <button class=\"colab-df-convert\" onclick=\"convertToInteractive('df-d1df4835-c377-420a-984e-ae443f8a932d')\"\n",
              "              title=\"Convert this dataframe to an interactive table.\"\n",
              "              style=\"display:none;\">\n",
              "        \n",
              "  <svg xmlns=\"http://www.w3.org/2000/svg\" height=\"24px\"viewBox=\"0 0 24 24\"\n",
              "       width=\"24px\">\n",
              "    <path d=\"M0 0h24v24H0V0z\" fill=\"none\"/>\n",
              "    <path d=\"M18.56 5.44l.94 2.06.94-2.06 2.06-.94-2.06-.94-.94-2.06-.94 2.06-2.06.94zm-11 1L8.5 8.5l.94-2.06 2.06-.94-2.06-.94L8.5 2.5l-.94 2.06-2.06.94zm10 10l.94 2.06.94-2.06 2.06-.94-2.06-.94-.94-2.06-.94 2.06-2.06.94z\"/><path d=\"M17.41 7.96l-1.37-1.37c-.4-.4-.92-.59-1.43-.59-.52 0-1.04.2-1.43.59L10.3 9.45l-7.72 7.72c-.78.78-.78 2.05 0 2.83L4 21.41c.39.39.9.59 1.41.59.51 0 1.02-.2 1.41-.59l7.78-7.78 2.81-2.81c.8-.78.8-2.07 0-2.86zM5.41 20L4 18.59l7.72-7.72 1.47 1.35L5.41 20z\"/>\n",
              "  </svg>\n",
              "      </button>\n",
              "      \n",
              "  <style>\n",
              "    .colab-df-container {\n",
              "      display:flex;\n",
              "      flex-wrap:wrap;\n",
              "      gap: 12px;\n",
              "    }\n",
              "\n",
              "    .colab-df-convert {\n",
              "      background-color: #E8F0FE;\n",
              "      border: none;\n",
              "      border-radius: 50%;\n",
              "      cursor: pointer;\n",
              "      display: none;\n",
              "      fill: #1967D2;\n",
              "      height: 32px;\n",
              "      padding: 0 0 0 0;\n",
              "      width: 32px;\n",
              "    }\n",
              "\n",
              "    .colab-df-convert:hover {\n",
              "      background-color: #E2EBFA;\n",
              "      box-shadow: 0px 1px 2px rgba(60, 64, 67, 0.3), 0px 1px 3px 1px rgba(60, 64, 67, 0.15);\n",
              "      fill: #174EA6;\n",
              "    }\n",
              "\n",
              "    [theme=dark] .colab-df-convert {\n",
              "      background-color: #3B4455;\n",
              "      fill: #D2E3FC;\n",
              "    }\n",
              "\n",
              "    [theme=dark] .colab-df-convert:hover {\n",
              "      background-color: #434B5C;\n",
              "      box-shadow: 0px 1px 3px 1px rgba(0, 0, 0, 0.15);\n",
              "      filter: drop-shadow(0px 1px 2px rgba(0, 0, 0, 0.3));\n",
              "      fill: #FFFFFF;\n",
              "    }\n",
              "  </style>\n",
              "\n",
              "      <script>\n",
              "        const buttonEl =\n",
              "          document.querySelector('#df-d1df4835-c377-420a-984e-ae443f8a932d button.colab-df-convert');\n",
              "        buttonEl.style.display =\n",
              "          google.colab.kernel.accessAllowed ? 'block' : 'none';\n",
              "\n",
              "        async function convertToInteractive(key) {\n",
              "          const element = document.querySelector('#df-d1df4835-c377-420a-984e-ae443f8a932d');\n",
              "          const dataTable =\n",
              "            await google.colab.kernel.invokeFunction('convertToInteractive',\n",
              "                                                     [key], {});\n",
              "          if (!dataTable) return;\n",
              "\n",
              "          const docLinkHtml = 'Like what you see? Visit the ' +\n",
              "            '<a target=\"_blank\" href=https://colab.research.google.com/notebooks/data_table.ipynb>data table notebook</a>'\n",
              "            + ' to learn more about interactive tables.';\n",
              "          element.innerHTML = '';\n",
              "          dataTable['output_type'] = 'display_data';\n",
              "          await google.colab.output.renderOutput(dataTable, element);\n",
              "          const docLink = document.createElement('div');\n",
              "          docLink.innerHTML = docLinkHtml;\n",
              "          element.appendChild(docLink);\n",
              "        }\n",
              "      </script>\n",
              "    </div>\n",
              "  </div>\n",
              "  "
            ]
          },
          "metadata": {},
          "execution_count": 17
        }
      ]
    },
    {
      "cell_type": "markdown",
      "source": [
        "**Split between Training and Validation sets**.\n",
        "\n",
        "Before proceeding with data balancing, we must split the existing data between Training and Validation sets. Otherwise, we will have no parameters to check if the balancing has been adequate.\n",
        "\n",
        "To ensure that the Training and Validation sets have the same number of classes proportionally, we pass `stratify=True`."
      ],
      "metadata": {
        "id": "KhMBOjOww3Qm"
      }
    },
    {
      "cell_type": "code",
      "source": [
        "# Separate the data between feature matrix and target vector \n",
        "X = df_clean.drop('Class', axis=1)\n",
        "y = df_clean['Class']\n",
        "\n",
        "# Split the dataset between training and testing\n",
        "X_train, X_val, y_train, y_val = train_test_split(X, y, stratify=y, shuffle=True)"
      ],
      "metadata": {
        "id": "UoBvXePDwoNT"
      },
      "execution_count": 18,
      "outputs": []
    },
    {
      "cell_type": "markdown",
      "source": [
        "**Data Balancing**\n",
        "\n",
        "Using the `imblearn` library you can easily apply data balancing techniques. In this case, the choice in this project was to use *Under-sampling*, preserving the minority class.\n",
        "\n",
        "It is easy to see that there is no longer that initial discrepancy (bar graph at the beginning of this *notebook*)."
      ],
      "metadata": {
        "id": "10UQOG9rxQ7x"
      }
    },
    {
      "cell_type": "code",
      "source": [
        "# Using under-sampling technique\n",
        "rus = RandomUnderSampler()\n",
        "X_rus, y_rus = rus.fit_resample(X_train, y_train)\n",
        "\n",
        "# Show class balancing\n",
        "print(pd.Series(y_rus).value_counts())\n",
        "\n",
        "# Plotting new class distribution\n",
        "sns.countplot(y_rus);"
      ],
      "metadata": {
        "colab": {
          "base_uri": "https://localhost:8080/",
          "height": 386
        },
        "id": "v3UlyNi2yKD3",
        "outputId": "d44b21c5-b86b-4b66-f0c8-186f40d3e1e2"
      },
      "execution_count": 19,
      "outputs": [
        {
          "output_type": "stream",
          "name": "stdout",
          "text": [
            "0    313\n",
            "1    313\n",
            "Name: Class, dtype: int64\n"
          ]
        },
        {
          "output_type": "stream",
          "name": "stderr",
          "text": [
            "/usr/local/lib/python3.8/dist-packages/seaborn/_decorators.py:36: FutureWarning: Pass the following variable as a keyword arg: x. From version 0.12, the only valid positional argument will be `data`, and passing other arguments without an explicit keyword will result in an error or misinterpretation.\n",
            "  warnings.warn(\n"
          ]
        },
        {
          "output_type": "display_data",
          "data": {
            "text/plain": [
              "<Figure size 432x288 with 1 Axes>"
            ],
            "image/png": "[encoded data removed]"
          },
          "metadata": {
            "needs_background": "light"
          }
        }
      ]
    },
    {
      "cell_type": "markdown",
      "source": [
        "With the data balanced, we can look at the correlation matrix and identify which variables are most strongly related to the others.\n",
        "\n",
        "Notice how previously, without balancing the data, the correlation matrix did not provide any relevant information. However, it provides much more information after proper balancing."
      ],
      "metadata": {
        "id": "P79kP_p410i6"
      }
    },
    {
      "cell_type": "code",
      "source": [
        "# Plotting correlation matrix\n",
        "corr = X_train.corr()\n",
        "corr_rus = pd.DataFrame(X_rus).corr()\n",
        "\n",
        "\n",
        "fig, ax = plt.subplots(nrows=1, ncols=2, figsize = (18,8))\n",
        "fig.suptitle('Correlation Matrix')\n",
        "\n",
        "sns.heatmap(corr, xticklabels=corr.columns, yticklabels=corr.columns,\n",
        "            linewidths=.1, cmap=\"coolwarm\", ax=ax[0])\n",
        "ax[0].set_title('Unbalanced')\n",
        "\n",
        "sns.heatmap(corr_rus, xticklabels=corr.columns, yticklabels=corr.columns,\n",
        "            linewidths=.1, cmap=\"coolwarm\", ax=ax[1])\n",
        "ax[1].set_title('Balanced')\n",
        "\n",
        "plt.show()"
      ],
      "metadata": {
        "colab": {
          "base_uri": "https://localhost:8080/",
          "height": 589
        },
        "id": "_J9vcYRm12F4",
        "outputId": "edf13dd7-622a-4b2d-ab4e-88f65f884183"
      },
      "execution_count": 20,
      "outputs": [
        {
          "output_type": "display_data",
          "data": {
            "text/plain": [
              "<Figure size 1296x576 with 4 Axes>"
            ],
            "image/png": "[encoded data removed]"
          },
          "metadata": {
            "needs_background": "light"
          }
        }
      ]
    },
    {
      "cell_type": "markdown",
      "source": [
        "## Machine Learning Model\n",
        "\n",
        "With all the data prepared and after a thorough exploratory analysis, I will build a classifier using Logistic Regression.\n",
        "\n",
        "After instantiating the model, it will be trained on top of the `X_rus` and `y_rus` data, because they are balanced and this helps the model to get better results. Next, predictions will be made on the test data."
      ],
      "metadata": {
        "id": "dSngZrIY2G9Y"
      }
    },
    {
      "cell_type": "code",
      "source": [
        "# Instantiating and training a Logistic Regression model\n",
        "np.random.seed(2)\n",
        "model = LogisticRegression()\n",
        "model.fit(X_rus, y_rus)\n",
        "\n",
        "# Making predictions on top of the test data\n",
        "y_pred = model.predict(X_val)\n",
        "y_proba = model.predict_proba(X_val)"
      ],
      "metadata": {
        "id": "vuHnOQKU2Kp1"
      },
      "execution_count": 21,
      "outputs": []
    },
    {
      "cell_type": "markdown",
      "source": [
        "With the model trained and the predictions made, the next step is to evaluate its performance.\n",
        "\n",
        "In this type of problem, originally unbalanced, accuracy is not an adequate metric. As explained [in this Sigmoidal article](http://sigmoidal.ai/como-lidar-com-dados-desbalanceados/), it is possible to have an accuracy of 99.88% and detect less than 60% of the frauds.\n",
        "\n",
        "Look at the confusion matrix to see the hit rate for fraudulent transactions, or by the *recall* column of the Classification Report. \n",
        "\n",
        "Another metric that is considered interesting for evaluating effectiveness is the [AUC ROC](https://medium.com/bio-data-blog/entenda-o-que-%C3%A9-auc-e-roc-nos-modelos-de-machine-learning-8191fb4df772), or area under the curve. In the case of this Logistic Regression model, it has 94% AUC."
      ],
      "metadata": {
        "id": "jeBLBnXt2icY"
      }
    },
    {
      "cell_type": "code",
      "source": [
        "# Plotting correlation matrix\n",
        "skplt.metrics.plot_confusion_matrix(y_val, y_pred, normalize=True)\n",
        "\n",
        "# Printing classification report\n",
        "print(\"Classification report:\\n\", classification_report(y_val, y_pred, digits=4))\n",
        "\n",
        "# Printing accuracy of the model\n",
        "print(\"Accuracy: {:.4f}\\n\".format(accuracy_score(y_val, y_pred)))\n",
        "\n",
        "# Printing area under the curve\n",
        "print(\"AUC: {:.4f}\\n\".format(roc_auc_score(y_val, y_pred)))"
      ],
      "metadata": {
        "colab": {
          "base_uri": "https://localhost:8080/",
          "height": 538
        },
        "id": "INwC-FpL2j7C",
        "outputId": "0bfde1a5-411b-494d-ddd6-08f50abe3a7e"
      },
      "execution_count": 22,
      "outputs": [
        {
          "output_type": "stream",
          "name": "stdout",
          "text": [
            "Classification report:\n",
            "               precision    recall  f1-score   support\n",
            "\n",
            "           0     0.9998    0.9594    0.9792     60417\n",
            "           1     0.0362    0.8762    0.0695       105\n",
            "\n",
            "    accuracy                         0.9593     60522\n",
            "   macro avg     0.5180    0.9178    0.5243     60522\n",
            "weighted avg     0.9981    0.9593    0.9776     60522\n",
            "\n",
            "Accuracy: 0.9593\n",
            "\n",
            "AUC: 0.9178\n",
            "\n"
          ]
        },
        {
          "output_type": "display_data",
          "data": {
            "text/plain": [
              "<Figure size 432x288 with 2 Axes>"
            ],
            "image/png": "[encoded data removed]"
          },
          "metadata": {
            "needs_background": "light"
          }
        }
      ]
    },
    {
      "cell_type": "markdown",
      "source": [
        "## Predicting on the Test Set\n",
        "\n",
        "At the beginning of the project, we performed a split on the data so that we had 3 sets: A training set, a validation set, and a test set. \n",
        "\n",
        "Now that we have explored and prepared the data, set up the model, and made predictions on the validation set, it is time to discover the potential of this simple model with the test data.\n",
        "\n",
        "What we will do is just use the model we trained with a new set. But for the results to be fair, we need to make sure that the new data is in the same condition as that which our model expects.\n",
        "\n",
        "In this case we need to standardize the columns Time and Amount. We cannot balance the data because there would be a loss. Our model needs to be treated but we need to make predictions on all the rows it receives."
      ],
      "metadata": {
        "id": "EKIcDE8U3Znh"
      }
    },
    {
      "cell_type": "code",
      "source": [
        "# Standardizing Time and Amount columns - Test\n",
        "test_clean = test.copy()\n",
        "\n",
        "std_scaler = StandardScaler()\n",
        "test_clean['std_amount'] = std_scaler.fit_transform(test_clean['Amount'].values.reshape(-1, 1))\n",
        "test_clean['std_time'] = std_scaler.fit_transform(test_clean['Time'].values.reshape(-1, 1))\n",
        "\n",
        "test_clean.drop(['Time', 'Amount'], axis=1, inplace=True)\n",
        "\n",
        "# Showing first 5 entries\n",
        "test_clean.head()"
      ],
      "metadata": {
        "colab": {
          "base_uri": "https://localhost:8080/",
          "height": 299
        },
        "id": "EV1VLPK-3XcF",
        "outputId": "f9564637-aa9a-47d6-dc68-3537ae8f8486"
      },
      "execution_count": 23,
      "outputs": [
        {
          "output_type": "execute_result",
          "data": {
            "text/plain": [
              "              V1        V2        V3        V4        V5        V6        V7  \\\n",
              "183484 -0.323334  1.057455 -0.048341 -0.607204  1.259821 -0.091761  1.159101   \n",
              "255448 -0.349718  0.932619  0.142992 -0.657071  1.169784 -0.733369  1.009985   \n",
              "244749 -1.614711 -2.406570  0.326194  0.665520  2.369268 -1.775367 -1.139049   \n",
              "63919  -2.477184  0.860613  1.441850  1.051019 -1.856621  2.078384  0.510828   \n",
              "11475   1.338831 -0.547264  0.737389 -0.212383 -1.110039 -0.525744 -0.801403   \n",
              "\n",
              "              V8        V9       V10  ...       V22       V23       V24  \\\n",
              "183484 -0.124335 -0.174640 -1.644401  ... -0.433890 -0.261613 -0.046651   \n",
              "255448 -0.071069 -0.302083 -1.192404  ... -0.833209 -0.030360  0.490035   \n",
              "244749  0.329904  0.903813 -0.219013  ...  1.134489  0.965054  0.640981   \n",
              "63919  -0.243399 -0.260691  0.133040  ...  0.692245  0.150121 -0.260777   \n",
              "11475  -0.063672  0.997276  0.113386  ... -0.074719  0.067055  0.333122   \n",
              "\n",
              "             V25       V26       V27       V28  Class  std_amount  std_time  \n",
              "183484  0.211512  0.008297  0.108494  0.161139      0   -0.177738  0.658372  \n",
              "255448 -0.404816  0.134350  0.076830  0.175562      0   -0.321945  1.320094  \n",
              "244749 -1.801998 -1.041114  0.286285  0.437322      0    0.034666  1.219742  \n",
              "63919   0.005183 -0.177847 -0.510060 -0.660533      0    0.838765 -0.919236  \n",
              "11475   0.379087 -0.268706 -0.002769  0.003272      0   -0.310490 -1.572827  \n",
              "\n",
              "[5 rows x 31 columns]"
            ],
            "text/html": [
              "\n",
              "  <div id=\"df-99628e9f-c0b9-4328-a4e1-ef9f600ecfc7\">\n",
              "    <div class=\"colab-df-container\">\n",
              "      <div>\n",
              "<style scoped>\n",
              "    .dataframe tbody tr th:only-of-type {\n",
              "        vertical-align: middle;\n",
              "    }\n",
              "\n",
              "    .dataframe tbody tr th {\n",
              "        vertical-align: top;\n",
              "    }\n",
              "\n",
              "    .dataframe thead th {\n",
              "        text-align: right;\n",
              "    }\n",
              "</style>\n",
              "<table border=\"1\" class=\"dataframe\">\n",
              "  <thead>\n",
              "    <tr style=\"text-align: right;\">\n",
              "      <th></th>\n",
              "      <th>V1</th>\n",
              "      <th>V2</th>\n",
              "      <th>V3</th>\n",
              "      <th>V4</th>\n",
              "      <th>V5</th>\n",
              "      <th>V6</th>\n",
              "      <th>V7</th>\n",
              "      <th>V8</th>\n",
              "      <th>V9</th>\n",
              "      <th>V10</th>\n",
              "      <th>...</th>\n",
              "      <th>V22</th>\n",
              "      <th>V23</th>\n",
              "      <th>V24</th>\n",
              "      <th>V25</th>\n",
              "      <th>V26</th>\n",
              "      <th>V27</th>\n",
              "      <th>V28</th>\n",
              "      <th>Class</th>\n",
              "      <th>std_amount</th>\n",
              "      <th>std_time</th>\n",
              "    </tr>\n",
              "  </thead>\n",
              "  <tbody>\n",
              "    <tr>\n",
              "      <th>183484</th>\n",
              "      <td>-0.323334</td>\n",
              "      <td>1.057455</td>\n",
              "      <td>-0.048341</td>\n",
              "      <td>-0.607204</td>\n",
              "      <td>1.259821</td>\n",
              "      <td>-0.091761</td>\n",
              "      <td>1.159101</td>\n",
              "      <td>-0.124335</td>\n",
              "      <td>-0.174640</td>\n",
              "      <td>-1.644401</td>\n",
              "      <td>...</td>\n",
              "      <td>-0.433890</td>\n",
              "      <td>-0.261613</td>\n",
              "      <td>-0.046651</td>\n",
              "      <td>0.211512</td>\n",
              "      <td>0.008297</td>\n",
              "      <td>0.108494</td>\n",
              "      <td>0.161139</td>\n",
              "      <td>0</td>\n",
              "      <td>-0.177738</td>\n",
              "      <td>0.658372</td>\n",
              "    </tr>\n",
              "    <tr>\n",
              "      <th>255448</th>\n",
              "      <td>-0.349718</td>\n",
              "      <td>0.932619</td>\n",
              "      <td>0.142992</td>\n",
              "      <td>-0.657071</td>\n",
              "      <td>1.169784</td>\n",
              "      <td>-0.733369</td>\n",
              "      <td>1.009985</td>\n",
              "      <td>-0.071069</td>\n",
              "      <td>-0.302083</td>\n",
              "      <td>-1.192404</td>\n",
              "      <td>...</td>\n",
              "      <td>-0.833209</td>\n",
              "      <td>-0.030360</td>\n",
              "      <td>0.490035</td>\n",
              "      <td>-0.404816</td>\n",
              "      <td>0.134350</td>\n",
              "      <td>0.076830</td>\n",
              "      <td>0.175562</td>\n",
              "      <td>0</td>\n",
              "      <td>-0.321945</td>\n",
              "      <td>1.320094</td>\n",
              "    </tr>\n",
              "    <tr>\n",
              "      <th>244749</th>\n",
              "      <td>-1.614711</td>\n",
              "      <td>-2.406570</td>\n",
              "      <td>0.326194</td>\n",
              "      <td>0.665520</td>\n",
              "      <td>2.369268</td>\n",
              "      <td>-1.775367</td>\n",
              "      <td>-1.139049</td>\n",
              "      <td>0.329904</td>\n",
              "      <td>0.903813</td>\n",
              "      <td>-0.219013</td>\n",
              "      <td>...</td>\n",
              "      <td>1.134489</td>\n",
              "      <td>0.965054</td>\n",
              "      <td>0.640981</td>\n",
              "      <td>-1.801998</td>\n",
              "      <td>-1.041114</td>\n",
              "      <td>0.286285</td>\n",
              "      <td>0.437322</td>\n",
              "      <td>0</td>\n",
              "      <td>0.034666</td>\n",
              "      <td>1.219742</td>\n",
              "    </tr>\n",
              "    <tr>\n",
              "      <th>63919</th>\n",
              "      <td>-2.477184</td>\n",
              "      <td>0.860613</td>\n",
              "      <td>1.441850</td>\n",
              "      <td>1.051019</td>\n",
              "      <td>-1.856621</td>\n",
              "      <td>2.078384</td>\n",
              "      <td>0.510828</td>\n",
              "      <td>-0.243399</td>\n",
              "      <td>-0.260691</td>\n",
              "      <td>0.133040</td>\n",
              "      <td>...</td>\n",
              "      <td>0.692245</td>\n",
              "      <td>0.150121</td>\n",
              "      <td>-0.260777</td>\n",
              "      <td>0.005183</td>\n",
              "      <td>-0.177847</td>\n",
              "      <td>-0.510060</td>\n",
              "      <td>-0.660533</td>\n",
              "      <td>0</td>\n",
              "      <td>0.838765</td>\n",
              "      <td>-0.919236</td>\n",
              "    </tr>\n",
              "    <tr>\n",
              "      <th>11475</th>\n",
              "      <td>1.338831</td>\n",
              "      <td>-0.547264</td>\n",
              "      <td>0.737389</td>\n",
              "      <td>-0.212383</td>\n",
              "      <td>-1.110039</td>\n",
              "      <td>-0.525744</td>\n",
              "      <td>-0.801403</td>\n",
              "      <td>-0.063672</td>\n",
              "      <td>0.997276</td>\n",
              "      <td>0.113386</td>\n",
              "      <td>...</td>\n",
              "      <td>-0.074719</td>\n",
              "      <td>0.067055</td>\n",
              "      <td>0.333122</td>\n",
              "      <td>0.379087</td>\n",
              "      <td>-0.268706</td>\n",
              "      <td>-0.002769</td>\n",
              "      <td>0.003272</td>\n",
              "      <td>0</td>\n",
              "      <td>-0.310490</td>\n",
              "      <td>-1.572827</td>\n",
              "    </tr>\n",
              "  </tbody>\n",
              "</table>\n",
              "<p>5 rows × 31 columns</p>\n",
              "</div>\n",
              "      <button class=\"colab-df-convert\" onclick=\"convertToInteractive('df-99628e9f-c0b9-4328-a4e1-ef9f600ecfc7')\"\n",
              "              title=\"Convert this dataframe to an interactive table.\"\n",
              "              style=\"display:none;\">\n",
              "        \n",
              "  <svg xmlns=\"http://www.w3.org/2000/svg\" height=\"24px\"viewBox=\"0 0 24 24\"\n",
              "       width=\"24px\">\n",
              "    <path d=\"M0 0h24v24H0V0z\" fill=\"none\"/>\n",
              "    <path d=\"M18.56 5.44l.94 2.06.94-2.06 2.06-.94-2.06-.94-.94-2.06-.94 2.06-2.06.94zm-11 1L8.5 8.5l.94-2.06 2.06-.94-2.06-.94L8.5 2.5l-.94 2.06-2.06.94zm10 10l.94 2.06.94-2.06 2.06-.94-2.06-.94-.94-2.06-.94 2.06-2.06.94z\"/><path d=\"M17.41 7.96l-1.37-1.37c-.4-.4-.92-.59-1.43-.59-.52 0-1.04.2-1.43.59L10.3 9.45l-7.72 7.72c-.78.78-.78 2.05 0 2.83L4 21.41c.39.39.9.59 1.41.59.51 0 1.02-.2 1.41-.59l7.78-7.78 2.81-2.81c.8-.78.8-2.07 0-2.86zM5.41 20L4 18.59l7.72-7.72 1.47 1.35L5.41 20z\"/>\n",
              "  </svg>\n",
              "      </button>\n",
              "      \n",
              "  <style>\n",
              "    .colab-df-container {\n",
              "      display:flex;\n",
              "      flex-wrap:wrap;\n",
              "      gap: 12px;\n",
              "    }\n",
              "\n",
              "    .colab-df-convert {\n",
              "      background-color: #E8F0FE;\n",
              "      border: none;\n",
              "      border-radius: 50%;\n",
              "      cursor: pointer;\n",
              "      display: none;\n",
              "      fill: #1967D2;\n",
              "      height: 32px;\n",
              "      padding: 0 0 0 0;\n",
              "      width: 32px;\n",
              "    }\n",
              "\n",
              "    .colab-df-convert:hover {\n",
              "      background-color: #E2EBFA;\n",
              "      box-shadow: 0px 1px 2px rgba(60, 64, 67, 0.3), 0px 1px 3px 1px rgba(60, 64, 67, 0.15);\n",
              "      fill: #174EA6;\n",
              "    }\n",
              "\n",
              "    [theme=dark] .colab-df-convert {\n",
              "      background-color: #3B4455;\n",
              "      fill: #D2E3FC;\n",
              "    }\n",
              "\n",
              "    [theme=dark] .colab-df-convert:hover {\n",
              "      background-color: #434B5C;\n",
              "      box-shadow: 0px 1px 3px 1px rgba(0, 0, 0, 0.15);\n",
              "      filter: drop-shadow(0px 1px 2px rgba(0, 0, 0, 0.3));\n",
              "      fill: #FFFFFF;\n",
              "    }\n",
              "  </style>\n",
              "\n",
              "      <script>\n",
              "        const buttonEl =\n",
              "          document.querySelector('#df-99628e9f-c0b9-4328-a4e1-ef9f600ecfc7 button.colab-df-convert');\n",
              "        buttonEl.style.display =\n",
              "          google.colab.kernel.accessAllowed ? 'block' : 'none';\n",
              "\n",
              "        async function convertToInteractive(key) {\n",
              "          const element = document.querySelector('#df-99628e9f-c0b9-4328-a4e1-ef9f600ecfc7');\n",
              "          const dataTable =\n",
              "            await google.colab.kernel.invokeFunction('convertToInteractive',\n",
              "                                                     [key], {});\n",
              "          if (!dataTable) return;\n",
              "\n",
              "          const docLinkHtml = 'Like what you see? Visit the ' +\n",
              "            '<a target=\"_blank\" href=https://colab.research.google.com/notebooks/data_table.ipynb>data table notebook</a>'\n",
              "            + ' to learn more about interactive tables.';\n",
              "          element.innerHTML = '';\n",
              "          dataTable['output_type'] = 'display_data';\n",
              "          await google.colab.output.renderOutput(dataTable, element);\n",
              "          const docLink = document.createElement('div');\n",
              "          docLink.innerHTML = docLinkHtml;\n",
              "          element.appendChild(docLink);\n",
              "        }\n",
              "      </script>\n",
              "    </div>\n",
              "  </div>\n",
              "  "
            ]
          },
          "metadata": {},
          "execution_count": 23
        }
      ]
    },
    {
      "cell_type": "markdown",
      "source": [
        "Now we just have to separate between X and Y, and make our predictions.\n",
        "\n"
      ],
      "metadata": {
        "id": "kcUQugO-4llB"
      }
    },
    {
      "cell_type": "code",
      "source": [
        "# Separating variables between X and y\n",
        "X_test = test_clean.drop('Class', axis=1)\n",
        "y_test = test['Class']"
      ],
      "metadata": {
        "id": "KU5vSymG4pRP"
      },
      "execution_count": 24,
      "outputs": []
    },
    {
      "cell_type": "code",
      "source": [
        "# Making predictions on top of the test data\n",
        "y_pred = model.predict(X_test)\n",
        "y_proba = model.predict_proba(X_test)"
      ],
      "metadata": {
        "id": "bD_c7niC4ukV"
      },
      "execution_count": 25,
      "outputs": []
    },
    {
      "cell_type": "markdown",
      "source": [
        "That's it! With our predictions done, it's time to visualize the results.\n",
        "\n"
      ],
      "metadata": {
        "id": "6EB_GK-24zTW"
      }
    },
    {
      "cell_type": "code",
      "source": [
        "# Plotting classification report\n",
        "skplt.metrics.plot_confusion_matrix(y_test, y_pred, normalize=True)\n",
        "\n",
        "# Printing classification report\n",
        "print(\"Classification report:\\n\", classification_report(y_test, y_pred, digits=4))\n",
        "\n",
        "# Printing accuracy of the model\n",
        "print(\"Accuracy: {:.4f}\\n\".format(accuracy_score(y_test, y_pred)))\n",
        "\n",
        "# Printing area under the curve\n",
        "print(\"AUC: {:.4f}\\n\".format(roc_auc_score(y_test, y_pred)))"
      ],
      "metadata": {
        "colab": {
          "base_uri": "https://localhost:8080/",
          "height": 538
        },
        "id": "GX_mKVYc40as",
        "outputId": "c16aa159-bc5e-45fc-9584-13f0d145ba61"
      },
      "execution_count": 26,
      "outputs": [
        {
          "output_type": "stream",
          "name": "stdout",
          "text": [
            "Classification report:\n",
            "               precision    recall  f1-score   support\n",
            "\n",
            "           0     0.9999    0.9590    0.9790     42647\n",
            "           1     0.0380    0.9324    0.0729        74\n",
            "\n",
            "    accuracy                         0.9589     42721\n",
            "   macro avg     0.5189    0.9457    0.5260     42721\n",
            "weighted avg     0.9982    0.9589    0.9774     42721\n",
            "\n",
            "Accuracy: 0.9589\n",
            "\n",
            "AUC: 0.9457\n",
            "\n"
          ]
        },
        {
          "output_type": "display_data",
          "data": {
            "text/plain": [
              "<Figure size 432x288 with 2 Axes>"
            ],
            "image/png": "[encoded data removed]"
          },
          "metadata": {
            "needs_background": "light"
          }
        }
      ]
    },
    {
      "cell_type": "markdown",
      "source": [
        "We can see that our results were better than during validation, as the accuracy remained around 96% but the AUC increased to 94.57%. Which is an excellent result!"
      ],
      "metadata": {
        "id": "uPngxliN48SN"
      }
    },
    {
      "cell_type": "markdown",
      "metadata": {
        "id": "0Bj7zRZMSfO7"
      },
      "source": [
        "## Conclusions\n",
        "\n",
        "As you can see, this is not a trivial problem. Although the data is well treated and clean, with no missing values or categorical variables, the unbalancing and the PCA Transformation demanded a considerable amount of work.\n",
        "\n",
        "Obviously, despite the good final result, there is room to test the performance with other classification algorithms, and to optimize their parameters."
      ]
    }
  ]
}